{
 "cells": [
  {
   "cell_type": "markdown",
   "metadata": {
    "_cell_guid": "7298e8ab-91e3-4b58-9a23-3bb33fed90a9",
    "_uuid": "b39403baa38d7d0c49664edba7efd58f0834081e"
   },
   "source": [
    "# Web Intrusion Detection"
   ]
  },
  {
   "cell_type": "code",
   "execution_count": 5,
   "metadata": {
    "ExecuteTime": {
     "end_time": "2018-03-30T18:48:46.015371Z",
     "start_time": "2018-03-30T18:48:44.530018Z"
    },
    "_cell_guid": "e79e475d-03ae-4285-b26c-cd696e266c56",
    "_uuid": "e96749c041a3e32f4b29252429724a7a3492b539",
    "colab": {
     "autoexec": {
      "startup": false,
      "wait_interval": 0
     },
     "base_uri": "https://localhost:8080/",
     "height": 238,
     "output_extras": [
      {
       "item_id": 3
      }
     ]
    },
    "colab_type": "code",
    "executionInfo": {
     "elapsed": 8915,
     "status": "ok",
     "timestamp": 1522170681265,
     "user": {
      "displayName": "Aditya Soni",
      "photoUrl": "//lh4.googleusercontent.com/-SQOSt8X1y6I/AAAAAAAAAAI/AAAAAAAAANU/uiVV5jrPv7I/s50-c-k-no/photo.jpg",
      "userId": "105432095373954701043"
     },
     "user_tz": -330
    },
    "id": "v3VdOI5VBSJl",
    "outputId": "4569f356-0182-44b2-9c18-d1f267dc51a1"
   },
   "outputs": [],
   "source": [
    "from __future__ import division, print_function\n",
    "## to ignore warnings as we don't like them as such\n",
    "import warnings\n",
    "warnings.filterwarnings('ignore')\n",
    "#plotting lib's\n",
    "from matplotlib import pyplot as plt\n",
    "%matplotlib inline\n",
    "import seaborn as sns\n",
    "#other's\n",
    "import xgboost as xgb\n",
    "from sklearn.model_selection import train_test_split, cross_val_predict, TimeSeriesSplit\n",
    "from sklearn.model_selection import validation_curve, learning_curve\n",
    "from sklearn.metrics import confusion_matrix\n",
    "import pickle\n",
    "import numpy as np\n",
    "import pandas as pd\n",
    "from scipy.sparse import csr_matrix\n",
    "from scipy.sparse import hstack\n",
    "from sklearn.preprocessing import StandardScaler\n",
    "from sklearn.metrics import roc_auc_score\n",
    "from sklearn.feature_extraction.text import TfidfVectorizer, TfidfTransformer\n",
    "from sklearn.linear_model import LogisticRegressionCV, LogisticRegression\n",
    "from sklearn.model_selection import cross_val_score, StratifiedKFold, GridSearchCV, train_test_split, TimeSeriesSplit\n",
    "from sklearn.metrics import accuracy_score , roc_curve, auc\n",
    "from sklearn.ensemble import RandomForestRegressor, RandomForestClassifier"
   ]
  },
  {
   "cell_type": "code",
   "execution_count": 6,
   "metadata": {
    "ExecuteTime": {
     "end_time": "2018-03-30T18:49:35.086762Z",
     "start_time": "2018-03-30T18:48:46.019368Z"
    },
    "_cell_guid": "028a9c0a-9b69-4f64-afe3-78af9adf3b04",
    "_uuid": "271316382c96e9bb02ad98f0a9ac27e7482a0dcc",
    "colab": {
     "autoexec": {
      "startup": false,
      "wait_interval": 0
     },
     "base_uri": "https://localhost:8080/",
     "height": 454,
     "output_extras": [
      {
       "item_id": 1
      }
     ]
    },
    "colab_type": "code",
    "executionInfo": {
     "elapsed": 7528,
     "status": "ok",
     "timestamp": 1522170699006,
     "user": {
      "displayName": "Aditya Soni",
      "photoUrl": "//lh4.googleusercontent.com/-SQOSt8X1y6I/AAAAAAAAAAI/AAAAAAAAANU/uiVV5jrPv7I/s50-c-k-no/photo.jpg",
      "userId": "105432095373954701043"
     },
     "user_tz": -330
    },
    "id": "kKX4n4l7BSJr",
    "outputId": "cf2a7d60-fbc7-460e-9081-20618b04685d"
   },
   "outputs": [],
   "source": [
    "# Read the training and test data sets\n",
    "train_df = pd.read_csv('Project 1/catch-me-if-you-can-intruder-detection-through-webpage-session-tracking2/train_sessions.csv',\n",
    "                       index_col='session_id',parse_dates=['time1'])\n",
    "test_df = pd.read_csv('Project 1/catch-me-if-you-can-intruder-detection-through-webpage-session-tracking2/test_sessions.csv',\n",
    "                      index_col='session_id',parse_dates=['time1'])\n",
    "\n",
    "times = ['time%s' % i for i in range(1, 11)]\n",
    "sites = ['site%s' % i for i in range(1, 11)]"
   ]
  },
  {
   "cell_type": "code",
   "execution_count": 7,
   "metadata": {
    "_cell_guid": "81f7253a-4156-44d4-b705-5c7a715f1d6d",
    "_uuid": "4b4e9b8ee280d00fc02b79a4fd72cc3c469da974"
   },
   "outputs": [
    {
     "data": {
      "text/plain": [
       "((253561, 21), (82797, 20))"
      ]
     },
     "execution_count": 7,
     "metadata": {},
     "output_type": "execute_result"
    }
   ],
   "source": [
    "train_df.shape, test_df.shape"
   ]
  },
  {
   "cell_type": "code",
   "execution_count": 8,
   "metadata": {
    "_cell_guid": "a943a371-1d8c-4447-82fd-23111e1cc434",
    "_uuid": "75256cb66965ad625663f245e2da4016cecf58bf"
   },
   "outputs": [
    {
     "data": {
      "text/plain": [
       "site1  time1                site2  time2                site3  time3                site4   time4                site5    time5                site6   time6                site7  time7                site8   time8                site9   time9                site10  time10               target\n",
       "953    2014-03-19 09:03:10  953.0  2014-03-19 09:03:11  953.0  2014-03-19 09:03:12  953.0   2014-03-19 09:03:13  953.0    2014-03-19 09:03:14  953.0   2014-03-19 09:03:15  953.0  2014-03-19 09:03:16  953.0   2014-03-19 09:03:17  953.0   2014-03-19 09:03:18  953.0   2014-03-19 09:03:19  0         3\n",
       "       2014-03-26 09:30:22  953.0  2014-03-26 09:30:23  953.0  2014-03-26 09:30:24  953.0   2014-03-26 09:30:25  953.0    2014-03-26 09:30:26  953.0   2014-03-26 09:30:27  953.0  2014-03-26 09:30:28  953.0   2014-03-26 09:30:29  953.0   2014-03-26 09:30:30  953.0   2014-03-26 09:30:31  0         2\n",
       "       2014-02-26 09:55:21  953.0  2014-02-26 09:55:22  953.0  2014-02-26 09:55:23  953.0   2014-02-26 09:55:24  953.0    2014-02-26 09:55:25  953.0   2014-02-26 09:55:26  953.0  2014-02-26 09:55:27  953.0   2014-02-26 09:55:28  953.0   2014-02-26 09:55:29  953.0   2014-02-26 09:55:30  0         2\n",
       "778    2014-02-14 14:15:31  778.0  2014-02-14 14:15:32  778.0  2014-02-14 14:15:33  778.0   2014-02-14 14:15:34  778.0    2014-02-14 14:15:35  778.0   2014-02-14 14:15:36  778.0  2014-02-14 14:15:37  778.0   2014-02-14 14:15:38  778.0   2014-02-14 14:15:39  778.0   2014-02-14 14:15:40  0         2\n",
       "       2014-02-14 14:15:21  778.0  2014-02-14 14:15:22  778.0  2014-02-14 14:15:23  778.0   2014-02-14 14:15:24  778.0    2014-02-14 14:15:25  778.0   2014-02-14 14:15:26  778.0  2014-02-14 14:15:27  778.0   2014-02-14 14:15:28  778.0   2014-02-14 14:15:29  778.0   2014-02-14 14:15:30  0         2\n",
       "                                                                                                                                                                                                                                                                                                        ..\n",
       "140    2014-02-18 13:49:11  321.0  2014-02-18 13:49:12  156.0  2014-02-18 13:49:12  48.0    2014-02-18 13:49:12  30130.0  2014-02-18 13:49:13  262.0   2014-02-18 13:49:13  161.0  2014-02-18 13:49:14  625.0   2014-02-18 13:49:15  14.0    2014-02-18 13:49:16  5654.0  2014-02-18 13:49:16  0         1\n",
       "       2014-02-18 14:50:43  156.0  2014-02-18 14:50:44  21.0   2014-02-18 14:50:50  1018.0  2014-02-18 14:50:51  1017.0   2014-02-18 14:50:51  2973.0  2014-02-18 14:50:51  317.0  2014-02-18 14:50:52  1017.0  2014-02-18 14:50:52  317.0   2014-02-18 14:50:53  1019.0  2014-02-18 14:50:53  0         1\n",
       "       2014-02-18 16:10:19  29.0   2014-02-18 16:10:20  749.0  2014-02-18 16:10:23  23.0    2014-02-18 16:10:23  747.0    2014-02-18 16:10:23  23.0    2014-02-18 16:11:10  21.0   2014-02-18 16:11:15  39.0    2014-02-18 16:11:40  22.0    2014-02-18 16:12:31  752.0   2014-02-18 16:13:20  0         1\n",
       "       2014-02-18 16:11:23  747.0  2014-02-18 16:11:55  23.0   2014-02-18 16:11:56  749.0   2014-02-18 16:11:56  140.0    2014-02-18 16:12:00  747.0   2014-02-18 16:12:14  749.0  2014-02-18 16:12:15  23.0    2014-02-18 16:12:15  140.0   2014-02-18 16:12:17  747.0   2014-02-18 16:12:18  0         1\n",
       "41601  2014-02-24 16:28:17  229.0  2014-02-24 16:28:19  21.0   2014-02-24 16:28:24  989.0   2014-02-24 16:28:24  38.0     2014-02-24 16:28:24  989.0   2014-02-24 16:28:25  568.0  2014-02-24 16:28:25  989.0   2014-02-24 16:28:26  1020.0  2014-02-24 16:28:26  1021.0  2014-02-24 16:28:27  0         1\n",
       "Length: 231034, dtype: int64"
      ]
     },
     "execution_count": 8,
     "metadata": {},
     "output_type": "execute_result"
    }
   ],
   "source": [
    "train_df.value_counts()"
   ]
  },
  {
   "cell_type": "code",
   "execution_count": 9,
   "metadata": {
    "_cell_guid": "485edd2d-02c3-4026-8e21-1352afdd0357",
    "_uuid": "a8dbc5347311599ebcbb36d97b03cd5686731a3d"
   },
   "outputs": [
    {
     "data": {
      "text/plain": [
       "site1  time1                site2    time2                site3    time3                site4    time4                site5    time5                site6    time6                site7    time7                site8    time8                site9    time9                site10   time10             \n",
       "1      2014-05-02 08:25:11  37.0     2014-05-02 08:25:11  31.0     2014-05-02 08:25:12  39.0     2014-05-02 08:25:12  37.0     2014-05-02 08:25:12  22.0     2014-05-02 08:25:12  29.0     2014-05-02 08:25:12  22.0     2014-05-02 08:25:13  37.0     2014-05-02 08:25:13  21.0     2014-05-02 08:25:16    1\n",
       "890    2014-09-04 14:54:56  143.0    2014-09-04 14:54:56  2874.0   2014-09-04 14:54:56  156.0    2014-09-04 14:54:56  559.0    2014-09-04 14:54:56  2868.0   2014-09-04 14:54:56  2871.0   2014-09-04 14:54:57  76.0     2014-09-04 14:54:57  559.0    2014-09-04 14:54:57  30.0     2014-09-04 14:54:57    1\n",
       "891    2014-07-02 11:22:28  891.0    2014-07-02 11:22:29  1086.0   2014-07-02 11:22:29  14.0     2014-07-02 11:22:29  6.0      2014-07-02 11:22:30  14.0     2014-07-02 11:22:30  9547.0   2014-07-02 11:22:31  1086.0   2014-07-02 11:22:31  14.0     2014-07-02 11:22:32  8.0      2014-07-02 11:22:32    1\n",
       "       2014-05-13 08:29:18  40668.0  2014-05-13 08:29:21  6.0      2014-05-13 08:29:21  3303.0   2014-05-13 08:29:21  6.0      2014-05-13 08:29:23  54.0     2014-05-13 08:29:23  14.0     2014-05-13 08:29:23  3303.0   2014-05-13 08:29:24  14.0     2014-05-13 08:29:27  3303.0   2014-05-13 08:29:27    1\n",
       "890    2014-12-02 17:08:58  3560.0   2014-12-02 17:09:01  36533.0  2014-12-02 17:09:08  1981.0   2014-12-02 17:09:23  1980.0   2014-12-02 17:10:27  3560.0   2014-12-02 17:10:54  3559.0   2014-12-02 17:10:54  21.0     2014-12-02 17:10:54  941.0    2014-12-02 17:10:54  890.0    2014-12-02 17:10:54    1\n",
       "                                                                                                                                                                                                                                                                                                           ..\n",
       "167    2014-08-01 10:43:51  363.0    2014-08-01 10:43:52  363.0    2014-08-01 10:43:53  167.0    2014-08-01 10:43:54  363.0    2014-08-01 10:43:56  167.0    2014-08-01 10:43:56  167.0    2014-08-01 10:43:57  167.0    2014-08-01 10:43:58  167.0    2014-08-01 10:43:59  167.0    2014-08-01 10:44:01    1\n",
       "       2014-08-01 10:43:21  167.0    2014-08-01 10:43:22  167.0    2014-08-01 10:43:24  167.0    2014-08-01 10:43:25  167.0    2014-08-01 10:43:26  3.0      2014-08-01 10:43:45  3.0      2014-08-01 10:43:46  167.0    2014-08-01 10:44:00  384.0    2014-08-01 10:44:00  167.0    2014-08-01 10:44:10    1\n",
       "       2014-08-01 10:37:57  167.0    2014-08-01 10:37:58  363.0    2014-08-01 10:38:00  167.0    2014-08-01 10:38:00  167.0    2014-08-01 10:38:01  363.0    2014-08-01 10:38:01  364.0    2014-08-01 10:38:01  360.0    2014-08-01 10:38:02  167.0    2014-08-01 10:38:02  45458.0  2014-08-01 10:38:02    1\n",
       "       2014-08-01 10:37:27  363.0    2014-08-01 10:37:28  167.0    2014-08-01 10:37:29  167.0    2014-08-01 10:37:30  363.0    2014-08-01 10:37:30  363.0    2014-08-01 10:37:31  363.0    2014-08-01 10:37:32  167.0    2014-08-01 10:37:32  167.0    2014-08-01 10:37:33  167.0    2014-08-01 10:37:35    1\n",
       "48370  2014-12-05 10:06:03  48370.0  2014-12-05 10:06:42  48370.0  2014-12-05 10:06:52  48370.0  2014-12-05 10:06:59  48370.0  2014-12-05 10:07:39  48370.0  2014-12-05 10:07:44  48370.0  2014-12-05 10:07:51  48370.0  2014-12-05 10:07:56  48370.0  2014-12-05 10:08:05  48370.0  2014-12-05 10:08:09    1\n",
       "Length: 74806, dtype: int64"
      ]
     },
     "execution_count": 9,
     "metadata": {},
     "output_type": "execute_result"
    }
   ],
   "source": [
    "test_df.value_counts()"
   ]
  },
  {
   "cell_type": "code",
   "execution_count": 10,
   "metadata": {
    "_cell_guid": "34378f2d-e999-4b52-a68b-c15f5025bca9",
    "_uuid": "a672e0b97ab22ddaa15e1d07bd9b6acfd55548cc"
   },
   "outputs": [
    {
     "data": {
      "text/plain": [
       "<Axes: xlabel='target', ylabel='count'>"
      ]
     },
     "execution_count": 10,
     "metadata": {},
     "output_type": "execute_result"
    },
    {
     "data": {
      "image/png": "[encoded data removed]",
      "text/plain": [
       "<Figure size 640x480 with 1 Axes>"
      ]
     },
     "metadata": {},
     "output_type": "display_data"
    }
   ],
   "source": [
    "sns.countplot(x =train_df['target']) #Imbalanced Dataset"
   ]
  },
  {
   "cell_type": "code",
   "execution_count": 11,
   "metadata": {
    "ExecuteTime": {
     "end_time": "2018-03-30T18:49:37.704011Z",
     "start_time": "2018-03-30T18:49:35.086762Z"
    },
    "_cell_guid": "78c87b08-4209-484c-a69c-a3cbe31801ac",
    "_uuid": "37dec068db7ed2edcf5ba43a6a3aaa16b17ebadd"
   },
   "outputs": [],
   "source": [
    "train_df[times] = train_df[times].apply(pd.to_datetime)\n",
    "test_df[times] = test_df[times].apply(pd.to_datetime)\n",
    "\n",
    "# Sort the data by time\n",
    "train_df = train_df.sort_values(by='time1')\n",
    "\n",
    "train_df[sites] = train_df[sites].fillna(0).astype('int')\n",
    "test_df[sites] = test_df[sites].fillna(0).astype('int')"
   ]
  },
  {
   "cell_type": "code",
   "execution_count": 12,
   "metadata": {
    "ExecuteTime": {
     "end_time": "2018-03-30T18:49:38.05719Z",
     "start_time": "2018-03-30T18:49:37.815618Z"
    },
    "_cell_guid": "8d2c5fb2-6382-4f71-88d6-bb50d0a3d689",
    "_uuid": "292f32b839cdae75b736634998451af150cd09e0",
    "colab": {
     "autoexec": {
      "startup": false,
      "wait_interval": 0
     },
     "base_uri": "https://localhost:8080/",
     "height": 221,
     "output_extras": [
      {
       "item_id": 1
      },
      {
       "item_id": 2
      }
     ]
    },
    "colab_type": "code",
    "executionInfo": {
     "elapsed": 1473,
     "status": "ok",
     "timestamp": 1522170700578,
     "user": {
      "displayName": "Aditya Soni",
      "photoUrl": "//lh4.googleusercontent.com/-SQOSt8X1y6I/AAAAAAAAAAI/AAAAAAAAANU/uiVV5jrPv7I/s50-c-k-no/photo.jpg",
      "userId": "105432095373954701043"
     },
     "user_tz": -330
    },
    "id": "BxxfgsaEBSJy",
    "outputId": "9c6eb22e-c957-4af6-f47d-e53c92ea9579"
   },
   "outputs": [
    {
     "name": "stdout",
     "output_type": "stream",
     "text": [
      "Websites total: 48371\n"
     ]
    }
   ],
   "source": [
    "# Change site1, ..., site10 columns type to integer and fill NA-values with zeros\n",
    "\n",
    "train_df[sites] = train_df[sites].fillna(0).astype('int')\n",
    "test_df[sites] = test_df[sites].fillna(0).astype('int')\n",
    "\n",
    "# Load websites dictionary\n",
    "with open(r\"Project 1/catch-me-if-you-can-intruder-detection-through-webpage-session-tracking2/site_dic.pkl\", \"rb\") as input_file:\n",
    "    site_dict = pickle.load(input_file)\n",
    "\n",
    "# Create dataframe for the dictionary\n",
    "sites_dict = pd.DataFrame(list(site_dict.keys()), index=list(site_dict.values()), columns=['site'])\n",
    "print(u'Websites total:', sites_dict.shape[0])"
   ]
  },
  {
   "cell_type": "code",
   "execution_count": 13,
   "metadata": {
    "ExecuteTime": {
     "end_time": "2018-03-30T18:49:38.197226Z",
     "start_time": "2018-03-30T18:49:38.061195Z"
    },
    "_cell_guid": "de20a7d8-95f6-4575-ba2b-cb21d480f2e1",
    "_uuid": "11c079d363a69119cc41fbfabbd2fb39213d7bf4",
    "colab": {
     "autoexec": {
      "startup": false,
      "wait_interval": 0
     },
     "base_uri": "https://localhost:8080/",
     "height": 306,
     "output_extras": [
      {
       "item_id": 1
      },
      {
       "item_id": 2
      }
     ]
    },
    "colab_type": "code",
    "executionInfo": {
     "elapsed": 1093,
     "status": "ok",
     "timestamp": 1522170701919,
     "user": {
      "displayName": "Aditya Soni",
      "photoUrl": "//lh4.googleusercontent.com/-SQOSt8X1y6I/AAAAAAAAAAI/AAAAAAAAANU/uiVV5jrPv7I/s50-c-k-no/photo.jpg",
      "userId": "105432095373954701043"
     },
     "user_tz": -330
    },
    "id": "0AnM5udlBSJ6",
    "outputId": "5640029b-acad-4500-9570-a312b07b4228"
   },
   "outputs": [
    {
     "data": {
      "text/plain": [
       "21     123776\n",
       "0      122730\n",
       "23      87619\n",
       "782     77055\n",
       "22      58258\n",
       "dtype: int64"
      ]
     },
     "execution_count": 13,
     "metadata": {},
     "output_type": "execute_result"
    }
   ],
   "source": [
    "# Top websites in the training data set\n",
    "top_sites = pd.Series(train_df[sites].fillna(0).values.flatten()\n",
    "                     ).value_counts().sort_values(ascending=False).head(5)\n",
    "top_sites"
   ]
  },
  {
   "cell_type": "code",
   "execution_count": 14,
   "metadata": {
    "ExecuteTime": {
     "end_time": "2018-03-30T18:49:38.213191Z",
     "start_time": "2018-03-30T18:49:38.197226Z"
    },
    "_cell_guid": "518a2264-b01f-4e84-ae6e-6eb9de63aec1",
    "_uuid": "af43b1276ea0ab32b4204aa6a448ae55f3568a42",
    "colab": {
     "autoexec": {
      "startup": false,
      "wait_interval": 0
     },
     "base_uri": "https://localhost:8080/",
     "height": 306,
     "output_extras": [
      {
       "item_id": 1
      },
      {
       "item_id": 2
      }
     ]
    },
    "colab_type": "code",
    "executionInfo": {
     "elapsed": 798,
     "status": "ok",
     "timestamp": 1522170702925,
     "user": {
      "displayName": "Aditya Soni",
      "photoUrl": "//lh4.googleusercontent.com/-SQOSt8X1y6I/AAAAAAAAAAI/AAAAAAAAANU/uiVV5jrPv7I/s50-c-k-no/photo.jpg",
      "userId": "105432095373954701043"
     },
     "user_tz": -330
    },
    "id": "U6z3eawbBSJ_",
    "outputId": "b71f3921-c4d4-4004-ab90-8b0c9db5a094"
   },
   "outputs": [
    {
     "data": {
      "text/plain": [
       "77    1382\n",
       "80    1354\n",
       "76    1307\n",
       "29     897\n",
       "21     857\n",
       "dtype: int64"
      ]
     },
     "execution_count": 14,
     "metadata": {},
     "output_type": "execute_result"
    }
   ],
   "source": [
    "# Alice's preferences\n",
    "top_sites_alice = pd.Series(train_df[train_df.target==1][sites].fillna(0).values.flatten()\n",
    "                           ).value_counts().sort_values(ascending=False).head()\n",
    "top_sites_alice"
   ]
  },
  {
   "cell_type": "code",
   "execution_count": 15,
   "metadata": {
    "ExecuteTime": {
     "end_time": "2018-03-30T18:49:38.509657Z",
     "start_time": "2018-03-30T18:49:38.213191Z"
    },
    "_cell_guid": "de3385a8-7cfe-43ab-9bc4-f6eb7b8e0ffb",
    "_uuid": "7a2c65ecd0ced34710162a60252fac0e0b2f54ec",
    "colab": {
     "autoexec": {
      "startup": false,
      "wait_interval": 0
     },
     "base_uri": "https://localhost:8080/",
     "height": 235,
     "output_extras": [
      {
       "item_id": 1
      }
     ]
    },
    "colab_type": "code",
    "executionInfo": {
     "elapsed": 816,
     "status": "ok",
     "timestamp": 1522170704163,
     "user": {
      "displayName": "Aditya Soni",
      "photoUrl": "//lh4.googleusercontent.com/-SQOSt8X1y6I/AAAAAAAAAAI/AAAAAAAAANU/uiVV5jrPv7I/s50-c-k-no/photo.jpg",
      "userId": "105432095373954701043"
     },
     "user_tz": -330
    },
    "id": "ZQcLHbV3BSKD",
    "outputId": "5bd83ff8-2cd8-40f7-b3db-3537884eea5e"
   },
   "outputs": [],
   "source": [
    "time_df = pd.DataFrame(index=train_df.index)\n",
    "time_df['target'] = train_df['target']\n",
    "\n",
    "# Find sessions' starting and ending\n",
    "time_df['min'] = train_df[times].min(axis=1)\n",
    "time_df['max'] = train_df[times].max(axis=1)\n",
    "\n",
    "# Calculate sessions' duration in seconds\n",
    "time_df['seconds'] = (time_df['max'] - time_df['min']) / np.timedelta64(1, 's')"
   ]
  },
  {
   "cell_type": "code",
   "execution_count": 16,
   "metadata": {
    "ExecuteTime": {
     "end_time": "2018-03-30T18:49:38.569189Z",
     "start_time": "2018-03-30T18:49:38.509657Z"
    },
    "_cell_guid": "81e86842-f15d-41a9-80ae-c651fc2196c5",
    "_uuid": "0741ffb216937585fe32c610272fb2f65eb8ae40",
    "colab": {
     "autoexec": {
      "startup": false,
      "wait_interval": 0
     },
     "base_uri": "https://localhost:8080/",
     "height": 142,
     "output_extras": [
      {
       "item_id": 1
      }
     ]
    },
    "colab_type": "code",
    "executionInfo": {
     "elapsed": 1994,
     "status": "ok",
     "timestamp": 1522171742242,
     "user": {
      "displayName": "Aditya Soni",
      "photoUrl": "//lh4.googleusercontent.com/-SQOSt8X1y6I/AAAAAAAAAAI/AAAAAAAAANU/uiVV5jrPv7I/s50-c-k-no/photo.jpg",
      "userId": "105432095373954701043"
     },
     "user_tz": -330
    },
    "id": "GWyHMLqrC3iV",
    "outputId": "f104e18c-9111-4b02-fc54-43637a5ffc60"
   },
   "outputs": [],
   "source": [
    "time_df_test = pd.DataFrame(index=test_df.index)\n",
    "\n",
    "# Find sessions' starting and ending\n",
    "time_df_test['min'] = test_df[times].min(axis=1)\n",
    "time_df_test['max'] = test_df[times].max(axis=1)\n",
    "\n",
    "# Calculate sessions' duration in seconds\n",
    "time_df_test['seconds'] = (time_df_test['max'] - time_df_test['min']) / np.timedelta64(1, 's')"
   ]
  },
  {
   "cell_type": "markdown",
   "metadata": {
    "_cell_guid": "fdb5ac2b-190a-45eb-9028-a12b0ada964f",
    "_uuid": "659b7c66c83575f47d2d53b818e39c126206b57b"
   },
   "source": [
    "- y_train - our target variable \n",
    "\n",
    "- full_df - the merged table of input data (training and test samples together) \n",
    "\n",
    "* idx_split - the index by which we will separate the training sample from the test\n"
   ]
  },
  {
   "cell_type": "code",
   "execution_count": 17,
   "metadata": {
    "ExecuteTime": {
     "end_time": "2018-03-30T18:49:38.821467Z",
     "start_time": "2018-03-30T18:49:38.665188Z"
    },
    "_cell_guid": "2c3d72c8-4479-4e52-bf65-b235edaec31b",
    "_uuid": "19937b0361ad6add8bf4fb8255db534ebafa9f88",
    "colab": {
     "autoexec": {
      "startup": false,
      "wait_interval": 0
     }
    },
    "colab_type": "code",
    "id": "gP5KCo1ZBSKS"
   },
   "outputs": [],
   "source": [
    "# Our target variable\n",
    "y_train = train_df['target']\n",
    "\n",
    "# United dataframe of the initial data \n",
    "full_df = pd.concat([train_df.drop('target', axis=1), test_df])\n",
    "\n",
    "#full_df[:].fillna(method='bfill',inplace=True)\n",
    "\n",
    "# Index to split the training and test data sets\n",
    "idx_split = train_df.shape[0]"
   ]
  },
  {
   "cell_type": "code",
   "execution_count": 18,
   "metadata": {
    "ExecuteTime": {
     "end_time": "2018-03-30T18:49:38.86919Z",
     "start_time": "2018-03-30T18:49:38.821467Z"
    },
    "_cell_guid": "095c1e3d-b237-4d75-9f09-b5166a49c7bc",
    "_uuid": "95a374627c2c8ebbd58d5ffe18f27d472efc33fd"
   },
   "outputs": [
    {
     "data": {
      "text/html": [
       "<div>\n",
       "<style scoped>\n",
       "    .dataframe tbody tr th:only-of-type {\n",
       "        vertical-align: middle;\n",
       "    }\n",
       "\n",
       "    .dataframe tbody tr th {\n",
       "        vertical-align: top;\n",
       "    }\n",
       "\n",
       "    .dataframe thead th {\n",
       "        text-align: right;\n",
       "    }\n",
       "</style>\n",
       "<table border=\"1\" class=\"dataframe\">\n",
       "  <thead>\n",
       "    <tr style=\"text-align: right;\">\n",
       "      <th></th>\n",
       "      <th>site1</th>\n",
       "      <th>time1</th>\n",
       "      <th>site2</th>\n",
       "      <th>time2</th>\n",
       "      <th>site3</th>\n",
       "      <th>time3</th>\n",
       "      <th>site4</th>\n",
       "      <th>time4</th>\n",
       "      <th>site5</th>\n",
       "      <th>time5</th>\n",
       "      <th>site6</th>\n",
       "      <th>time6</th>\n",
       "      <th>site7</th>\n",
       "      <th>time7</th>\n",
       "      <th>site8</th>\n",
       "      <th>time8</th>\n",
       "      <th>site9</th>\n",
       "      <th>time9</th>\n",
       "      <th>site10</th>\n",
       "      <th>time10</th>\n",
       "    </tr>\n",
       "    <tr>\n",
       "      <th>session_id</th>\n",
       "      <th></th>\n",
       "      <th></th>\n",
       "      <th></th>\n",
       "      <th></th>\n",
       "      <th></th>\n",
       "      <th></th>\n",
       "      <th></th>\n",
       "      <th></th>\n",
       "      <th></th>\n",
       "      <th></th>\n",
       "      <th></th>\n",
       "      <th></th>\n",
       "      <th></th>\n",
       "      <th></th>\n",
       "      <th></th>\n",
       "      <th></th>\n",
       "      <th></th>\n",
       "      <th></th>\n",
       "      <th></th>\n",
       "      <th></th>\n",
       "    </tr>\n",
       "  </thead>\n",
       "  <tbody>\n",
       "    <tr>\n",
       "      <th>21669</th>\n",
       "      <td>56</td>\n",
       "      <td>2013-01-12 08:05:57</td>\n",
       "      <td>55</td>\n",
       "      <td>2013-01-12 08:05:57</td>\n",
       "      <td>0</td>\n",
       "      <td>NaT</td>\n",
       "      <td>0</td>\n",
       "      <td>NaT</td>\n",
       "      <td>0</td>\n",
       "      <td>NaT</td>\n",
       "      <td>0</td>\n",
       "      <td>NaT</td>\n",
       "      <td>0</td>\n",
       "      <td>NaT</td>\n",
       "      <td>0</td>\n",
       "      <td>NaT</td>\n",
       "      <td>0</td>\n",
       "      <td>NaT</td>\n",
       "      <td>0</td>\n",
       "      <td>NaT</td>\n",
       "    </tr>\n",
       "    <tr>\n",
       "      <th>54843</th>\n",
       "      <td>56</td>\n",
       "      <td>2013-01-12 08:37:23</td>\n",
       "      <td>55</td>\n",
       "      <td>2013-01-12 08:37:23</td>\n",
       "      <td>56</td>\n",
       "      <td>2013-01-12 09:07:07</td>\n",
       "      <td>55</td>\n",
       "      <td>2013-01-12 09:07:09</td>\n",
       "      <td>0</td>\n",
       "      <td>NaT</td>\n",
       "      <td>0</td>\n",
       "      <td>NaT</td>\n",
       "      <td>0</td>\n",
       "      <td>NaT</td>\n",
       "      <td>0</td>\n",
       "      <td>NaT</td>\n",
       "      <td>0</td>\n",
       "      <td>NaT</td>\n",
       "      <td>0</td>\n",
       "      <td>NaT</td>\n",
       "    </tr>\n",
       "    <tr>\n",
       "      <th>77292</th>\n",
       "      <td>946</td>\n",
       "      <td>2013-01-12 08:50:13</td>\n",
       "      <td>946</td>\n",
       "      <td>2013-01-12 08:50:14</td>\n",
       "      <td>951</td>\n",
       "      <td>2013-01-12 08:50:15</td>\n",
       "      <td>946</td>\n",
       "      <td>2013-01-12 08:50:15</td>\n",
       "      <td>946</td>\n",
       "      <td>2013-01-12 08:50:16</td>\n",
       "      <td>945</td>\n",
       "      <td>2013-01-12 08:50:16</td>\n",
       "      <td>948</td>\n",
       "      <td>2013-01-12 08:50:16</td>\n",
       "      <td>784</td>\n",
       "      <td>2013-01-12 08:50:16</td>\n",
       "      <td>949</td>\n",
       "      <td>2013-01-12 08:50:17</td>\n",
       "      <td>946</td>\n",
       "      <td>2013-01-12 08:50:17</td>\n",
       "    </tr>\n",
       "    <tr>\n",
       "      <th>114021</th>\n",
       "      <td>945</td>\n",
       "      <td>2013-01-12 08:50:17</td>\n",
       "      <td>948</td>\n",
       "      <td>2013-01-12 08:50:17</td>\n",
       "      <td>949</td>\n",
       "      <td>2013-01-12 08:50:18</td>\n",
       "      <td>948</td>\n",
       "      <td>2013-01-12 08:50:18</td>\n",
       "      <td>945</td>\n",
       "      <td>2013-01-12 08:50:18</td>\n",
       "      <td>946</td>\n",
       "      <td>2013-01-12 08:50:18</td>\n",
       "      <td>947</td>\n",
       "      <td>2013-01-12 08:50:19</td>\n",
       "      <td>945</td>\n",
       "      <td>2013-01-12 08:50:19</td>\n",
       "      <td>946</td>\n",
       "      <td>2013-01-12 08:50:19</td>\n",
       "      <td>946</td>\n",
       "      <td>2013-01-12 08:50:20</td>\n",
       "    </tr>\n",
       "    <tr>\n",
       "      <th>146670</th>\n",
       "      <td>947</td>\n",
       "      <td>2013-01-12 08:50:20</td>\n",
       "      <td>950</td>\n",
       "      <td>2013-01-12 08:50:20</td>\n",
       "      <td>948</td>\n",
       "      <td>2013-01-12 08:50:20</td>\n",
       "      <td>947</td>\n",
       "      <td>2013-01-12 08:50:21</td>\n",
       "      <td>950</td>\n",
       "      <td>2013-01-12 08:50:21</td>\n",
       "      <td>952</td>\n",
       "      <td>2013-01-12 08:50:21</td>\n",
       "      <td>946</td>\n",
       "      <td>2013-01-12 08:50:21</td>\n",
       "      <td>951</td>\n",
       "      <td>2013-01-12 08:50:22</td>\n",
       "      <td>946</td>\n",
       "      <td>2013-01-12 08:50:22</td>\n",
       "      <td>947</td>\n",
       "      <td>2013-01-12 08:50:22</td>\n",
       "    </tr>\n",
       "  </tbody>\n",
       "</table>\n",
       "</div>"
      ],
      "text/plain": [
       "            site1               time1  site2               time2  site3  \\\n",
       "session_id                                                                \n",
       "21669          56 2013-01-12 08:05:57     55 2013-01-12 08:05:57      0   \n",
       "54843          56 2013-01-12 08:37:23     55 2013-01-12 08:37:23     56   \n",
       "77292         946 2013-01-12 08:50:13    946 2013-01-12 08:50:14    951   \n",
       "114021        945 2013-01-12 08:50:17    948 2013-01-12 08:50:17    949   \n",
       "146670        947 2013-01-12 08:50:20    950 2013-01-12 08:50:20    948   \n",
       "\n",
       "                         time3  site4               time4  site5  \\\n",
       "session_id                                                         \n",
       "21669                      NaT      0                 NaT      0   \n",
       "54843      2013-01-12 09:07:07     55 2013-01-12 09:07:09      0   \n",
       "77292      2013-01-12 08:50:15    946 2013-01-12 08:50:15    946   \n",
       "114021     2013-01-12 08:50:18    948 2013-01-12 08:50:18    945   \n",
       "146670     2013-01-12 08:50:20    947 2013-01-12 08:50:21    950   \n",
       "\n",
       "                         time5  site6               time6  site7  \\\n",
       "session_id                                                         \n",
       "21669                      NaT      0                 NaT      0   \n",
       "54843                      NaT      0                 NaT      0   \n",
       "77292      2013-01-12 08:50:16    945 2013-01-12 08:50:16    948   \n",
       "114021     2013-01-12 08:50:18    946 2013-01-12 08:50:18    947   \n",
       "146670     2013-01-12 08:50:21    952 2013-01-12 08:50:21    946   \n",
       "\n",
       "                         time7  site8               time8  site9  \\\n",
       "session_id                                                         \n",
       "21669                      NaT      0                 NaT      0   \n",
       "54843                      NaT      0                 NaT      0   \n",
       "77292      2013-01-12 08:50:16    784 2013-01-12 08:50:16    949   \n",
       "114021     2013-01-12 08:50:19    945 2013-01-12 08:50:19    946   \n",
       "146670     2013-01-12 08:50:21    951 2013-01-12 08:50:22    946   \n",
       "\n",
       "                         time9  site10              time10  \n",
       "session_id                                                  \n",
       "21669                      NaT       0                 NaT  \n",
       "54843                      NaT       0                 NaT  \n",
       "77292      2013-01-12 08:50:17     946 2013-01-12 08:50:17  \n",
       "114021     2013-01-12 08:50:19     946 2013-01-12 08:50:20  \n",
       "146670     2013-01-12 08:50:22     947 2013-01-12 08:50:22  "
      ]
     },
     "execution_count": 18,
     "metadata": {},
     "output_type": "execute_result"
    }
   ],
   "source": [
    "full_df.head(5)"
   ]
  },
  {
   "cell_type": "code",
   "execution_count": 19,
   "metadata": {
    "ExecuteTime": {
     "end_time": "2018-03-30T18:49:39.005763Z",
     "start_time": "2018-03-30T18:49:38.86919Z"
    },
    "_cell_guid": "9087a991-7fee-4567-b158-46b7ea849156",
    "_uuid": "e10bdaeda46796dae4a37f91d68e486ed1fea623",
    "colab": {
     "autoexec": {
      "startup": false,
      "wait_interval": 0
     }
    },
    "colab_type": "code",
    "id": "N-9k58HKBSKW"
   },
   "outputs": [
    {
     "data": {
      "text/html": [
       "<div>\n",
       "<style scoped>\n",
       "    .dataframe tbody tr th:only-of-type {\n",
       "        vertical-align: middle;\n",
       "    }\n",
       "\n",
       "    .dataframe tbody tr th {\n",
       "        vertical-align: top;\n",
       "    }\n",
       "\n",
       "    .dataframe thead th {\n",
       "        text-align: right;\n",
       "    }\n",
       "</style>\n",
       "<table border=\"1\" class=\"dataframe\">\n",
       "  <thead>\n",
       "    <tr style=\"text-align: right;\">\n",
       "      <th></th>\n",
       "      <th>site1</th>\n",
       "      <th>site2</th>\n",
       "      <th>site3</th>\n",
       "      <th>site4</th>\n",
       "      <th>site5</th>\n",
       "      <th>site6</th>\n",
       "      <th>site7</th>\n",
       "      <th>site8</th>\n",
       "      <th>site9</th>\n",
       "      <th>site10</th>\n",
       "    </tr>\n",
       "    <tr>\n",
       "      <th>session_id</th>\n",
       "      <th></th>\n",
       "      <th></th>\n",
       "      <th></th>\n",
       "      <th></th>\n",
       "      <th></th>\n",
       "      <th></th>\n",
       "      <th></th>\n",
       "      <th></th>\n",
       "      <th></th>\n",
       "      <th></th>\n",
       "    </tr>\n",
       "  </thead>\n",
       "  <tbody>\n",
       "    <tr>\n",
       "      <th>21669</th>\n",
       "      <td>56</td>\n",
       "      <td>55</td>\n",
       "      <td>0</td>\n",
       "      <td>0</td>\n",
       "      <td>0</td>\n",
       "      <td>0</td>\n",
       "      <td>0</td>\n",
       "      <td>0</td>\n",
       "      <td>0</td>\n",
       "      <td>0</td>\n",
       "    </tr>\n",
       "    <tr>\n",
       "      <th>54843</th>\n",
       "      <td>56</td>\n",
       "      <td>55</td>\n",
       "      <td>56</td>\n",
       "      <td>55</td>\n",
       "      <td>0</td>\n",
       "      <td>0</td>\n",
       "      <td>0</td>\n",
       "      <td>0</td>\n",
       "      <td>0</td>\n",
       "      <td>0</td>\n",
       "    </tr>\n",
       "    <tr>\n",
       "      <th>77292</th>\n",
       "      <td>946</td>\n",
       "      <td>946</td>\n",
       "      <td>951</td>\n",
       "      <td>946</td>\n",
       "      <td>946</td>\n",
       "      <td>945</td>\n",
       "      <td>948</td>\n",
       "      <td>784</td>\n",
       "      <td>949</td>\n",
       "      <td>946</td>\n",
       "    </tr>\n",
       "  </tbody>\n",
       "</table>\n",
       "</div>"
      ],
      "text/plain": [
       "            site1  site2  site3  site4  site5  site6  site7  site8  site9  \\\n",
       "session_id                                                                  \n",
       "21669          56     55      0      0      0      0      0      0      0   \n",
       "54843          56     55     56     55      0      0      0      0      0   \n",
       "77292         946    946    951    946    946    945    948    784    949   \n",
       "\n",
       "            site10  \n",
       "session_id          \n",
       "21669            0  \n",
       "54843            0  \n",
       "77292          946  "
      ]
     },
     "execution_count": 19,
     "metadata": {},
     "output_type": "execute_result"
    }
   ],
   "source": [
    "full_sites = full_df[sites] #only sites\n",
    "full_sites.head(3)"
   ]
  },
  {
   "cell_type": "markdown",
   "metadata": {
    "_cell_guid": "e54d336b-0d63-44ea-8fbc-8bdf56f68424",
    "_uuid": "56a2038c4d07bb47a4c91730c22b9f880c594280"
   },
   "source": [
    "## Creating characteristics\n",
    "\n",
    "- Extracting attributes from the site table \n",
    "\n",
    "- Count the number of unique sites in each session"
   ]
  },
  {
   "cell_type": "code",
   "execution_count": 20,
   "metadata": {
    "ExecuteTime": {
     "end_time": "2018-03-30T18:49:42.689073Z",
     "start_time": "2018-03-30T18:49:39.005763Z"
    },
    "_cell_guid": "1455c8d2-a29b-4d6f-952f-f0d3eba32390",
    "_uuid": "9a21a6db2c390cb24f12a3cdb54529c8a63f498c"
   },
   "outputs": [
    {
     "name": "stdout",
     "output_type": "stream",
     "text": [
      "CPU times: total: 1.98 s\n",
      "Wall time: 3.8 s\n"
     ]
    }
   ],
   "source": [
    "%%time\n",
    "#Getting Unique Counts\n",
    "unique_count = []\n",
    "for row in full_sites.values:\n",
    "    unique = np.unique (row)\n",
    "    if 0 in unique:\n",
    "        unique_count.append(len(unique) - 1)\n",
    "    else:\n",
    "        unique_count.append(len(unique))\n",
    "unique_count = np.array(unique_count).reshape(-1,1)"
   ]
  },
  {
   "cell_type": "code",
   "execution_count": 21,
   "metadata": {
    "ExecuteTime": {
     "end_time": "2018-03-30T18:49:42.701073Z",
     "start_time": "2018-03-30T18:49:42.689073Z"
    },
    "_cell_guid": "b9352a85-0e9d-4976-bb25-13bff860d38b",
    "_uuid": "39c364fd6d52ef101c32c45ec57e80ca501c94cb"
   },
   "outputs": [
    {
     "data": {
      "text/plain": [
       "array([[2],\n",
       "       [2],\n",
       "       [6],\n",
       "       [5],\n",
       "       [6],\n",
       "       [5],\n",
       "       [5],\n",
       "       [6],\n",
       "       [5],\n",
       "       [8]])"
      ]
     },
     "execution_count": 21,
     "metadata": {},
     "output_type": "execute_result"
    }
   ],
   "source": [
    "unique_count[:10] #print few"
   ]
  },
  {
   "cell_type": "code",
   "execution_count": 22,
   "metadata": {
    "ExecuteTime": {
     "end_time": "2018-03-30T18:49:42.81767Z",
     "start_time": "2018-03-30T18:49:42.701073Z"
    },
    "_cell_guid": "b0c6cd90-111d-48f4-b58e-bacea0e42ebe",
    "_uuid": "d81385e726e32e8321feeed81ada267e370ca480"
   },
   "outputs": [],
   "source": [
    "additional_data_df  =  pd.DataFrame(data = unique_count ,columns = ['unique'],index = full_df.index ) #my features dataframe"
   ]
  },
  {
   "cell_type": "code",
   "execution_count": 23,
   "metadata": {},
   "outputs": [
    {
     "data": {
      "text/html": [
       "<div>\n",
       "<style scoped>\n",
       "    .dataframe tbody tr th:only-of-type {\n",
       "        vertical-align: middle;\n",
       "    }\n",
       "\n",
       "    .dataframe tbody tr th {\n",
       "        vertical-align: top;\n",
       "    }\n",
       "\n",
       "    .dataframe thead th {\n",
       "        text-align: right;\n",
       "    }\n",
       "</style>\n",
       "<table border=\"1\" class=\"dataframe\">\n",
       "  <thead>\n",
       "    <tr style=\"text-align: right;\">\n",
       "      <th></th>\n",
       "      <th>unique</th>\n",
       "    </tr>\n",
       "    <tr>\n",
       "      <th>session_id</th>\n",
       "      <th></th>\n",
       "    </tr>\n",
       "  </thead>\n",
       "  <tbody>\n",
       "    <tr>\n",
       "      <th>21669</th>\n",
       "      <td>2</td>\n",
       "    </tr>\n",
       "    <tr>\n",
       "      <th>54843</th>\n",
       "      <td>2</td>\n",
       "    </tr>\n",
       "    <tr>\n",
       "      <th>77292</th>\n",
       "      <td>6</td>\n",
       "    </tr>\n",
       "    <tr>\n",
       "      <th>114021</th>\n",
       "      <td>5</td>\n",
       "    </tr>\n",
       "    <tr>\n",
       "      <th>146670</th>\n",
       "      <td>6</td>\n",
       "    </tr>\n",
       "    <tr>\n",
       "      <th>...</th>\n",
       "      <td>...</td>\n",
       "    </tr>\n",
       "    <tr>\n",
       "      <th>82793</th>\n",
       "      <td>3</td>\n",
       "    </tr>\n",
       "    <tr>\n",
       "      <th>82794</th>\n",
       "      <td>6</td>\n",
       "    </tr>\n",
       "    <tr>\n",
       "      <th>82795</th>\n",
       "      <td>10</td>\n",
       "    </tr>\n",
       "    <tr>\n",
       "      <th>82796</th>\n",
       "      <td>7</td>\n",
       "    </tr>\n",
       "    <tr>\n",
       "      <th>82797</th>\n",
       "      <td>2</td>\n",
       "    </tr>\n",
       "  </tbody>\n",
       "</table>\n",
       "<p>336358 rows × 1 columns</p>\n",
       "</div>"
      ],
      "text/plain": [
       "            unique\n",
       "session_id        \n",
       "21669            2\n",
       "54843            2\n",
       "77292            6\n",
       "114021           5\n",
       "146670           6\n",
       "...            ...\n",
       "82793            3\n",
       "82794            6\n",
       "82795           10\n",
       "82796            7\n",
       "82797            2\n",
       "\n",
       "[336358 rows x 1 columns]"
      ]
     },
     "execution_count": 23,
     "metadata": {},
     "output_type": "execute_result"
    }
   ],
   "source": [
    "additional_data_df"
   ]
  },
  {
   "cell_type": "markdown",
   "metadata": {
    "_cell_guid": "e2838ad4-5697-4413-8443-0bcf2df32f00",
    "_uuid": "2211938c6601cf877d7c6bbc05a21ff71a125963"
   },
   "source": [
    "Create a dictionary where the keys are sites, and the values ​​- the number of sessions in which this site met."
   ]
  },
  {
   "cell_type": "code",
   "execution_count": 24,
   "metadata": {
    "ExecuteTime": {
     "end_time": "2018-03-30T18:49:46.084416Z",
     "start_time": "2018-03-30T18:49:42.81767Z"
    },
    "_cell_guid": "2bd6e48b-6901-4dea-8e13-1a254a6364a7",
    "_uuid": "76912b1a239ff111a1a06ec18d4d44c140100a36"
   },
   "outputs": [
    {
     "data": {
      "text/plain": [
       "30500"
      ]
     },
     "execution_count": 24,
     "metadata": {},
     "output_type": "execute_result"
    }
   ],
   "source": [
    "site_dict  =  {} \n",
    "for  row  in  full_sites . values : \n",
    "    for  site_id  in  np . unique ( row ): \n",
    "        if  site_id  in  site_dict : \n",
    "            site_dict [ site_id ]  +=  1 \n",
    "        else : \n",
    "            site_dict [ site_id ]  =  1 \n",
    "site_dict.pop(0)"
   ]
  },
  {
   "cell_type": "markdown",
   "metadata": {
    "_cell_guid": "76d970d6-2c15-4da0-9865-ac506be508a3",
    "_uuid": "17616f1d34f4bbf45c98023a26127a339893a3e1"
   },
   "source": [
    "Make the presence indicator in the site of the site, which is included in the top 10 popular sites"
   ]
  },
  {
   "cell_type": "code",
   "execution_count": 25,
   "metadata": {
    "ExecuteTime": {
     "end_time": "2018-03-30T18:49:49.310093Z",
     "start_time": "2018-03-30T18:49:46.085509Z"
    },
    "_cell_guid": "8173b60f-856c-4477-a0b9-36187722a0e6",
    "_uuid": "86c1306ea121c5b964e814e2107d6684b06eb0c4"
   },
   "outputs": [
    {
     "name": "stdout",
     "output_type": "stream",
     "text": [
      "CPU times: total: 3.28 s\n",
      "Wall time: 4.78 s\n"
     ]
    },
    {
     "data": {
      "text/plain": [
       "array([[0],\n",
       "       [0],\n",
       "       [0],\n",
       "       ...,\n",
       "       [1],\n",
       "       [1],\n",
       "       [1]])"
      ]
     },
     "execution_count": 25,
     "metadata": {},
     "output_type": "execute_result"
    }
   ],
   "source": [
    "%%time\n",
    "top_10 = sorted (list (site_dict.items ()), key = lambda tup: tup [1], reverse = True) [: 10]\n",
    "top_10 = [element [0] for element in top_10]\n",
    "have_top_10 = np.zeros ((full_sites.shape [0], 1), dtype = int)\n",
    "ind = 0\n",
    "for row in full_sites.values:\n",
    "    unique = np.unique (row)\n",
    "    for site_id in unique:\n",
    "        if site_id in top_10:\n",
    "            have_top_10[ind] = 1\n",
    "    ind += 1\n",
    "\n",
    "have_top_10"
   ]
  },
  {
   "cell_type": "code",
   "execution_count": 26,
   "metadata": {
    "ExecuteTime": {
     "end_time": "2018-03-30T18:49:49.318095Z",
     "start_time": "2018-03-30T18:49:49.310093Z"
    },
    "_cell_guid": "cde16de3-db4c-485b-9b86-b2ffa3ccf0e1",
    "_uuid": "c58d4ff56b75b477dea7f79e82484c7bd7e1b15d"
   },
   "outputs": [],
   "source": [
    "additional_data_df [ 'have_top_10' ]  =  have_top_10"
   ]
  },
  {
   "cell_type": "code",
   "execution_count": 27,
   "metadata": {
    "ExecuteTime": {
     "end_time": "2018-03-30T18:49:49.522591Z",
     "start_time": "2018-03-30T18:49:49.318095Z"
    },
    "_cell_guid": "a37e9261-ffb5-4e45-9577-68c4b97ed867",
    "_uuid": "35cd68e54396e78407b01abf0fa064ebd193986b"
   },
   "outputs": [
    {
     "data": {
      "text/html": [
       "<div>\n",
       "<style scoped>\n",
       "    .dataframe tbody tr th:only-of-type {\n",
       "        vertical-align: middle;\n",
       "    }\n",
       "\n",
       "    .dataframe tbody tr th {\n",
       "        vertical-align: top;\n",
       "    }\n",
       "\n",
       "    .dataframe thead th {\n",
       "        text-align: right;\n",
       "    }\n",
       "</style>\n",
       "<table border=\"1\" class=\"dataframe\">\n",
       "  <thead>\n",
       "    <tr style=\"text-align: right;\">\n",
       "      <th></th>\n",
       "      <th>unique</th>\n",
       "      <th>have_top_10</th>\n",
       "    </tr>\n",
       "    <tr>\n",
       "      <th>session_id</th>\n",
       "      <th></th>\n",
       "      <th></th>\n",
       "    </tr>\n",
       "  </thead>\n",
       "  <tbody>\n",
       "    <tr>\n",
       "      <th>21669</th>\n",
       "      <td>2</td>\n",
       "      <td>0</td>\n",
       "    </tr>\n",
       "    <tr>\n",
       "      <th>54843</th>\n",
       "      <td>2</td>\n",
       "      <td>0</td>\n",
       "    </tr>\n",
       "    <tr>\n",
       "      <th>77292</th>\n",
       "      <td>6</td>\n",
       "      <td>0</td>\n",
       "    </tr>\n",
       "  </tbody>\n",
       "</table>\n",
       "</div>"
      ],
      "text/plain": [
       "            unique  have_top_10\n",
       "session_id                     \n",
       "21669            2            0\n",
       "54843            2            0\n",
       "77292            6            0"
      ]
     },
     "execution_count": 27,
     "metadata": {},
     "output_type": "execute_result"
    }
   ],
   "source": [
    "additional_data_df.head(3)"
   ]
  },
  {
   "cell_type": "markdown",
   "metadata": {
    "_cell_guid": "086ed9c5-a239-4b12-9157-94d1e298dedf",
    "_uuid": "b6832892f8c8cf277902f111cbc178566d8fcd1d"
   },
   "source": [
    "Count the number of absolutely unique sites in the session (the sites met only in this session)"
   ]
  },
  {
   "cell_type": "code",
   "execution_count": 28,
   "metadata": {
    "ExecuteTime": {
     "end_time": "2018-03-30T18:49:53.043749Z",
     "start_time": "2018-03-30T18:49:49.526589Z"
    },
    "_cell_guid": "73cc9995-c7d2-464d-957f-5de55a42f5b6",
    "_uuid": "6eca9364113ec9f5cbf5ac3ae3adffd248ab2721"
   },
   "outputs": [
    {
     "data": {
      "text/plain": [
       "array([[0],\n",
       "       [0],\n",
       "       [0],\n",
       "       ...,\n",
       "       [0],\n",
       "       [0],\n",
       "       [0]])"
      ]
     },
     "execution_count": 28,
     "metadata": {},
     "output_type": "execute_result"
    }
   ],
   "source": [
    "absolutely_unique_count  =  np.zeros((full_sites.shape[0], 1 ), dtype = int ) \n",
    "ind  =  0 \n",
    "for  row  in  full_sites . values : \n",
    "    unique  =  np . unique ( row ) \n",
    "    absolutely_unic_row  =  {} \n",
    "    for  site_id  in  unique : \n",
    "        if (site_id !=0) and (site_dict[site_id] == 1) and (site_id not in absolutely_unic_row ): \n",
    "            absolutely_unique_count [ ind ]  +=  1 \n",
    "            absolutely_unic_row [ site_id ]  =  1 \n",
    "    ind  +=  1\n",
    "absolutely_unique_count"
   ]
  },
  {
   "cell_type": "code",
   "execution_count": 29,
   "metadata": {
    "ExecuteTime": {
     "end_time": "2018-03-30T18:49:53.052767Z",
     "start_time": "2018-03-30T18:49:53.044705Z"
    },
    "_cell_guid": "57f65d98-a535-401a-84fd-3dab53f75ec3",
    "_uuid": "69bacd20513d3e6dfe1b810e1368c36fa6a74662"
   },
   "outputs": [],
   "source": [
    "additional_data_df['absolutely_unique_count'] = absolutely_unique_count"
   ]
  },
  {
   "cell_type": "markdown",
   "metadata": {
    "_cell_guid": "a42b2d32-6d95-4568-8716-a50de69d1e5c",
    "_uuid": "92879574134b093ef7e9a1bd4d375b303bf16b97"
   },
   "source": [
    "Make an indicator of the presence of an absolutely unique site in the session"
   ]
  },
  {
   "cell_type": "code",
   "execution_count": 30,
   "metadata": {
    "ExecuteTime": {
     "end_time": "2018-03-30T18:49:53.172705Z",
     "start_time": "2018-03-30T18:49:53.052767Z"
    },
    "_cell_guid": "22f430fd-1fea-494a-818c-21a9c4387111",
    "_uuid": "21d87740fc276f8bc95e86778d287c7aca067fe0"
   },
   "outputs": [],
   "source": [
    "absolutely_unique = (absolutely_unique_count > 0 ).astype(int)"
   ]
  },
  {
   "cell_type": "code",
   "execution_count": 31,
   "metadata": {
    "ExecuteTime": {
     "end_time": "2018-03-30T18:49:53.249194Z",
     "start_time": "2018-03-30T18:49:53.172705Z"
    },
    "_cell_guid": "14ccb853-5e33-4b90-b9c2-8c3777fb76e1",
    "_uuid": "3d1bfabe3e11c022021bc46c1e855ee3a1a5e8c0"
   },
   "outputs": [],
   "source": [
    "additional_data_df ['have_absolutely_unique' ] = absolutely_unique"
   ]
  },
  {
   "cell_type": "code",
   "execution_count": 32,
   "metadata": {
    "ExecuteTime": {
     "end_time": "2018-03-30T18:49:53.538479Z",
     "start_time": "2018-03-30T18:49:53.249194Z"
    },
    "_cell_guid": "9094dc2e-e71c-4956-93e3-951126896e04",
    "_uuid": "34e6a9d1647a9d6fe26d7b3a21c660d00511c625"
   },
   "outputs": [
    {
     "data": {
      "text/plain": [
       "<Axes: xlabel='absolutely_unique_count', ylabel='count'>"
      ]
     },
     "execution_count": 32,
     "metadata": {},
     "output_type": "execute_result"
    },
    {
     "data": {
      "image/png": "[encoded data removed]",
      "text/plain": [
       "<Figure size 640x480 with 1 Axes>"
      ]
     },
     "metadata": {},
     "output_type": "display_data"
    }
   ],
   "source": [
    "sns.countplot(x = additional_data_df['absolutely_unique_count'])"
   ]
  },
  {
   "cell_type": "markdown",
   "metadata": {
    "_cell_guid": "5c3145e3-5b95-4ebe-acec-652098eddc0a",
    "_uuid": "8a6f0d0e1397f2196f8ac499b2a385a38a812603"
   },
   "source": [
    "### Work over time \n",
    "\n",
    "- We extract a table in which there will be only columns of time"
   ]
  },
  {
   "cell_type": "code",
   "execution_count": 33,
   "metadata": {
    "ExecuteTime": {
     "end_time": "2018-03-30T18:49:53.566419Z",
     "start_time": "2018-03-30T18:49:53.538479Z"
    },
    "_cell_guid": "2546b547-aa95-4064-b432-fb580bb22d3c",
    "_uuid": "e521192fa55e8ac67ae2078fac05cb944a7b4c38"
   },
   "outputs": [
    {
     "data": {
      "text/html": [
       "<div>\n",
       "<style scoped>\n",
       "    .dataframe tbody tr th:only-of-type {\n",
       "        vertical-align: middle;\n",
       "    }\n",
       "\n",
       "    .dataframe tbody tr th {\n",
       "        vertical-align: top;\n",
       "    }\n",
       "\n",
       "    .dataframe thead th {\n",
       "        text-align: right;\n",
       "    }\n",
       "</style>\n",
       "<table border=\"1\" class=\"dataframe\">\n",
       "  <thead>\n",
       "    <tr style=\"text-align: right;\">\n",
       "      <th></th>\n",
       "      <th>time1</th>\n",
       "      <th>time2</th>\n",
       "      <th>time3</th>\n",
       "      <th>time4</th>\n",
       "      <th>time5</th>\n",
       "      <th>time6</th>\n",
       "      <th>time7</th>\n",
       "      <th>time8</th>\n",
       "      <th>time9</th>\n",
       "      <th>time10</th>\n",
       "    </tr>\n",
       "    <tr>\n",
       "      <th>session_id</th>\n",
       "      <th></th>\n",
       "      <th></th>\n",
       "      <th></th>\n",
       "      <th></th>\n",
       "      <th></th>\n",
       "      <th></th>\n",
       "      <th></th>\n",
       "      <th></th>\n",
       "      <th></th>\n",
       "      <th></th>\n",
       "    </tr>\n",
       "  </thead>\n",
       "  <tbody>\n",
       "    <tr>\n",
       "      <th>21669</th>\n",
       "      <td>2013-01-12 08:05:57</td>\n",
       "      <td>2013-01-12 08:05:57</td>\n",
       "      <td>NaT</td>\n",
       "      <td>NaT</td>\n",
       "      <td>NaT</td>\n",
       "      <td>NaT</td>\n",
       "      <td>NaT</td>\n",
       "      <td>NaT</td>\n",
       "      <td>NaT</td>\n",
       "      <td>NaT</td>\n",
       "    </tr>\n",
       "    <tr>\n",
       "      <th>54843</th>\n",
       "      <td>2013-01-12 08:37:23</td>\n",
       "      <td>2013-01-12 08:37:23</td>\n",
       "      <td>2013-01-12 09:07:07</td>\n",
       "      <td>2013-01-12 09:07:09</td>\n",
       "      <td>NaT</td>\n",
       "      <td>NaT</td>\n",
       "      <td>NaT</td>\n",
       "      <td>NaT</td>\n",
       "      <td>NaT</td>\n",
       "      <td>NaT</td>\n",
       "    </tr>\n",
       "    <tr>\n",
       "      <th>77292</th>\n",
       "      <td>2013-01-12 08:50:13</td>\n",
       "      <td>2013-01-12 08:50:14</td>\n",
       "      <td>2013-01-12 08:50:15</td>\n",
       "      <td>2013-01-12 08:50:15</td>\n",
       "      <td>2013-01-12 08:50:16</td>\n",
       "      <td>2013-01-12 08:50:16</td>\n",
       "      <td>2013-01-12 08:50:16</td>\n",
       "      <td>2013-01-12 08:50:16</td>\n",
       "      <td>2013-01-12 08:50:17</td>\n",
       "      <td>2013-01-12 08:50:17</td>\n",
       "    </tr>\n",
       "  </tbody>\n",
       "</table>\n",
       "</div>"
      ],
      "text/plain": [
       "                         time1               time2               time3  \\\n",
       "session_id                                                               \n",
       "21669      2013-01-12 08:05:57 2013-01-12 08:05:57                 NaT   \n",
       "54843      2013-01-12 08:37:23 2013-01-12 08:37:23 2013-01-12 09:07:07   \n",
       "77292      2013-01-12 08:50:13 2013-01-12 08:50:14 2013-01-12 08:50:15   \n",
       "\n",
       "                         time4               time5               time6  \\\n",
       "session_id                                                               \n",
       "21669                      NaT                 NaT                 NaT   \n",
       "54843      2013-01-12 09:07:09                 NaT                 NaT   \n",
       "77292      2013-01-12 08:50:15 2013-01-12 08:50:16 2013-01-12 08:50:16   \n",
       "\n",
       "                         time7               time8               time9  \\\n",
       "session_id                                                               \n",
       "21669                      NaT                 NaT                 NaT   \n",
       "54843                      NaT                 NaT                 NaT   \n",
       "77292      2013-01-12 08:50:16 2013-01-12 08:50:16 2013-01-12 08:50:17   \n",
       "\n",
       "                        time10  \n",
       "session_id                      \n",
       "21669                      NaT  \n",
       "54843                      NaT  \n",
       "77292      2013-01-12 08:50:17  "
      ]
     },
     "execution_count": 33,
     "metadata": {},
     "output_type": "execute_result"
    }
   ],
   "source": [
    "full_time  =  full_df[times] \n",
    "full_time.head(3)"
   ]
  },
  {
   "cell_type": "markdown",
   "metadata": {
    "_cell_guid": "53f1dbf1-bacc-4373-a832-e59beaed4739",
    "_uuid": "a0ae4a8152e2bd4b0b464ee9af69ea59ab8c9204"
   },
   "source": [
    "**We calculate the time of staying on each site within one session**"
   ]
  },
  {
   "cell_type": "code",
   "execution_count": 34,
   "metadata": {
    "ExecuteTime": {
     "end_time": "2018-03-30T18:49:53.64642Z",
     "start_time": "2018-03-30T18:49:53.566419Z"
    },
    "_cell_guid": "248e5edf-d830-4db9-ae17-eb38fdd7ba04",
    "_uuid": "70f7e26a36b13be6e6055bc8259ce70e75e9b7d3"
   },
   "outputs": [],
   "source": [
    "def  get_time_diff (row): \n",
    "    time_length = row.shape[0] - 1 \n",
    "    time_diff = [0]*time_length \n",
    "    i = 0 \n",
    "    while (i < time_length)and pd.notnull(row[i+1]): \n",
    "        time_diff[i] = (row[i+1] - row[i]) /np.timedelta64(1,'s') \n",
    "        i += 1 \n",
    "    return  time_diff"
   ]
  },
  {
   "cell_type": "code",
   "execution_count": 35,
   "metadata": {
    "ExecuteTime": {
     "end_time": "2018-03-30T18:50:14.240847Z",
     "start_time": "2018-03-30T18:49:53.64642Z"
    },
    "_cell_guid": "ef9f44ec-246e-4c2d-81c2-97801feebf63",
    "_uuid": "3c211565656ad5d67a9ddd8fbdb04883a93cba13"
   },
   "outputs": [
    {
     "name": "stdout",
     "output_type": "stream",
     "text": [
      "CPU times: total: 14.2 s\n",
      "Wall time: 22.4 s\n"
     ]
    }
   ],
   "source": [
    "%%time\n",
    "time_diff = []\n",
    "for row in full_time.values:\n",
    "    time_diff.append (get_time_diff (row))\n",
    "time_diff = np.log1p(np.array(time_diff).astype(float))"
   ]
  },
  {
   "cell_type": "code",
   "execution_count": 36,
   "metadata": {
    "ExecuteTime": {
     "end_time": "2018-03-30T18:50:14.277145Z",
     "start_time": "2018-03-30T18:50:14.240847Z"
    },
    "_cell_guid": "5f7cb235-0381-4f3a-be6d-7d3a49856460",
    "_uuid": "8bd854f7c0547ce627e7fcb6e4c394b0e21872a6"
   },
   "outputs": [],
   "source": [
    "## Appending The Newly Created Features\n",
    "time_names = ['time_diff'+str(j) for j in range(1,10)] \n",
    "for ind,column_name in enumerate(time_names): \n",
    "    additional_data_df[column_name] = time_diff[:,ind] "
   ]
  },
  {
   "cell_type": "code",
   "execution_count": 37,
   "metadata": {},
   "outputs": [
    {
     "data": {
      "text/html": [
       "<div>\n",
       "<style scoped>\n",
       "    .dataframe tbody tr th:only-of-type {\n",
       "        vertical-align: middle;\n",
       "    }\n",
       "\n",
       "    .dataframe tbody tr th {\n",
       "        vertical-align: top;\n",
       "    }\n",
       "\n",
       "    .dataframe thead th {\n",
       "        text-align: right;\n",
       "    }\n",
       "</style>\n",
       "<table border=\"1\" class=\"dataframe\">\n",
       "  <thead>\n",
       "    <tr style=\"text-align: right;\">\n",
       "      <th></th>\n",
       "      <th>unique</th>\n",
       "      <th>have_top_10</th>\n",
       "      <th>absolutely_unique_count</th>\n",
       "      <th>have_absolutely_unique</th>\n",
       "      <th>time_diff1</th>\n",
       "      <th>time_diff2</th>\n",
       "      <th>time_diff3</th>\n",
       "      <th>time_diff4</th>\n",
       "      <th>time_diff5</th>\n",
       "      <th>time_diff6</th>\n",
       "      <th>time_diff7</th>\n",
       "      <th>time_diff8</th>\n",
       "      <th>time_diff9</th>\n",
       "    </tr>\n",
       "    <tr>\n",
       "      <th>session_id</th>\n",
       "      <th></th>\n",
       "      <th></th>\n",
       "      <th></th>\n",
       "      <th></th>\n",
       "      <th></th>\n",
       "      <th></th>\n",
       "      <th></th>\n",
       "      <th></th>\n",
       "      <th></th>\n",
       "      <th></th>\n",
       "      <th></th>\n",
       "      <th></th>\n",
       "      <th></th>\n",
       "    </tr>\n",
       "  </thead>\n",
       "  <tbody>\n",
       "    <tr>\n",
       "      <th>21669</th>\n",
       "      <td>2</td>\n",
       "      <td>0</td>\n",
       "      <td>0</td>\n",
       "      <td>0</td>\n",
       "      <td>0.000000</td>\n",
       "      <td>0.000000</td>\n",
       "      <td>0.000000</td>\n",
       "      <td>0.000000</td>\n",
       "      <td>0.000000</td>\n",
       "      <td>0.000000</td>\n",
       "      <td>0.000000</td>\n",
       "      <td>0.000000</td>\n",
       "      <td>0.000000</td>\n",
       "    </tr>\n",
       "    <tr>\n",
       "      <th>54843</th>\n",
       "      <td>2</td>\n",
       "      <td>0</td>\n",
       "      <td>0</td>\n",
       "      <td>0</td>\n",
       "      <td>0.000000</td>\n",
       "      <td>7.487174</td>\n",
       "      <td>1.098612</td>\n",
       "      <td>0.000000</td>\n",
       "      <td>0.000000</td>\n",
       "      <td>0.000000</td>\n",
       "      <td>0.000000</td>\n",
       "      <td>0.000000</td>\n",
       "      <td>0.000000</td>\n",
       "    </tr>\n",
       "    <tr>\n",
       "      <th>77292</th>\n",
       "      <td>6</td>\n",
       "      <td>0</td>\n",
       "      <td>0</td>\n",
       "      <td>0</td>\n",
       "      <td>0.693147</td>\n",
       "      <td>0.693147</td>\n",
       "      <td>0.000000</td>\n",
       "      <td>0.693147</td>\n",
       "      <td>0.000000</td>\n",
       "      <td>0.000000</td>\n",
       "      <td>0.000000</td>\n",
       "      <td>0.693147</td>\n",
       "      <td>0.000000</td>\n",
       "    </tr>\n",
       "    <tr>\n",
       "      <th>114021</th>\n",
       "      <td>5</td>\n",
       "      <td>0</td>\n",
       "      <td>0</td>\n",
       "      <td>0</td>\n",
       "      <td>0.000000</td>\n",
       "      <td>0.693147</td>\n",
       "      <td>0.000000</td>\n",
       "      <td>0.000000</td>\n",
       "      <td>0.000000</td>\n",
       "      <td>0.693147</td>\n",
       "      <td>0.000000</td>\n",
       "      <td>0.000000</td>\n",
       "      <td>0.693147</td>\n",
       "    </tr>\n",
       "    <tr>\n",
       "      <th>146670</th>\n",
       "      <td>6</td>\n",
       "      <td>0</td>\n",
       "      <td>0</td>\n",
       "      <td>0</td>\n",
       "      <td>0.000000</td>\n",
       "      <td>0.000000</td>\n",
       "      <td>0.693147</td>\n",
       "      <td>0.000000</td>\n",
       "      <td>0.000000</td>\n",
       "      <td>0.000000</td>\n",
       "      <td>0.693147</td>\n",
       "      <td>0.000000</td>\n",
       "      <td>0.000000</td>\n",
       "    </tr>\n",
       "    <tr>\n",
       "      <th>...</th>\n",
       "      <td>...</td>\n",
       "      <td>...</td>\n",
       "      <td>...</td>\n",
       "      <td>...</td>\n",
       "      <td>...</td>\n",
       "      <td>...</td>\n",
       "      <td>...</td>\n",
       "      <td>...</td>\n",
       "      <td>...</td>\n",
       "      <td>...</td>\n",
       "      <td>...</td>\n",
       "      <td>...</td>\n",
       "      <td>...</td>\n",
       "    </tr>\n",
       "    <tr>\n",
       "      <th>82793</th>\n",
       "      <td>3</td>\n",
       "      <td>0</td>\n",
       "      <td>0</td>\n",
       "      <td>0</td>\n",
       "      <td>0.000000</td>\n",
       "      <td>0.000000</td>\n",
       "      <td>0.000000</td>\n",
       "      <td>0.000000</td>\n",
       "      <td>0.000000</td>\n",
       "      <td>0.000000</td>\n",
       "      <td>0.000000</td>\n",
       "      <td>0.000000</td>\n",
       "      <td>0.000000</td>\n",
       "    </tr>\n",
       "    <tr>\n",
       "      <th>82794</th>\n",
       "      <td>6</td>\n",
       "      <td>0</td>\n",
       "      <td>0</td>\n",
       "      <td>0</td>\n",
       "      <td>0.693147</td>\n",
       "      <td>1.386294</td>\n",
       "      <td>0.000000</td>\n",
       "      <td>3.583519</td>\n",
       "      <td>0.000000</td>\n",
       "      <td>0.000000</td>\n",
       "      <td>0.000000</td>\n",
       "      <td>0.000000</td>\n",
       "      <td>0.000000</td>\n",
       "    </tr>\n",
       "    <tr>\n",
       "      <th>82795</th>\n",
       "      <td>10</td>\n",
       "      <td>1</td>\n",
       "      <td>0</td>\n",
       "      <td>0</td>\n",
       "      <td>0.000000</td>\n",
       "      <td>0.000000</td>\n",
       "      <td>2.079442</td>\n",
       "      <td>0.000000</td>\n",
       "      <td>0.000000</td>\n",
       "      <td>0.000000</td>\n",
       "      <td>0.693147</td>\n",
       "      <td>0.000000</td>\n",
       "      <td>0.000000</td>\n",
       "    </tr>\n",
       "    <tr>\n",
       "      <th>82796</th>\n",
       "      <td>7</td>\n",
       "      <td>1</td>\n",
       "      <td>0</td>\n",
       "      <td>0</td>\n",
       "      <td>1.098612</td>\n",
       "      <td>0.000000</td>\n",
       "      <td>0.000000</td>\n",
       "      <td>2.302585</td>\n",
       "      <td>0.693147</td>\n",
       "      <td>0.000000</td>\n",
       "      <td>0.693147</td>\n",
       "      <td>0.000000</td>\n",
       "      <td>0.000000</td>\n",
       "    </tr>\n",
       "    <tr>\n",
       "      <th>82797</th>\n",
       "      <td>2</td>\n",
       "      <td>1</td>\n",
       "      <td>0</td>\n",
       "      <td>0</td>\n",
       "      <td>0.000000</td>\n",
       "      <td>0.693147</td>\n",
       "      <td>2.708050</td>\n",
       "      <td>0.693147</td>\n",
       "      <td>0.693147</td>\n",
       "      <td>0.693147</td>\n",
       "      <td>1.386294</td>\n",
       "      <td>3.218876</td>\n",
       "      <td>1.791759</td>\n",
       "    </tr>\n",
       "  </tbody>\n",
       "</table>\n",
       "<p>336358 rows × 13 columns</p>\n",
       "</div>"
      ],
      "text/plain": [
       "            unique  have_top_10  absolutely_unique_count  \\\n",
       "session_id                                                 \n",
       "21669            2            0                        0   \n",
       "54843            2            0                        0   \n",
       "77292            6            0                        0   \n",
       "114021           5            0                        0   \n",
       "146670           6            0                        0   \n",
       "...            ...          ...                      ...   \n",
       "82793            3            0                        0   \n",
       "82794            6            0                        0   \n",
       "82795           10            1                        0   \n",
       "82796            7            1                        0   \n",
       "82797            2            1                        0   \n",
       "\n",
       "            have_absolutely_unique  time_diff1  time_diff2  time_diff3  \\\n",
       "session_id                                                               \n",
       "21669                            0    0.000000    0.000000    0.000000   \n",
       "54843                            0    0.000000    7.487174    1.098612   \n",
       "77292                            0    0.693147    0.693147    0.000000   \n",
       "114021                           0    0.000000    0.693147    0.000000   \n",
       "146670                           0    0.000000    0.000000    0.693147   \n",
       "...                            ...         ...         ...         ...   \n",
       "82793                            0    0.000000    0.000000    0.000000   \n",
       "82794                            0    0.693147    1.386294    0.000000   \n",
       "82795                            0    0.000000    0.000000    2.079442   \n",
       "82796                            0    1.098612    0.000000    0.000000   \n",
       "82797                            0    0.000000    0.693147    2.708050   \n",
       "\n",
       "            time_diff4  time_diff5  time_diff6  time_diff7  time_diff8  \\\n",
       "session_id                                                               \n",
       "21669         0.000000    0.000000    0.000000    0.000000    0.000000   \n",
       "54843         0.000000    0.000000    0.000000    0.000000    0.000000   \n",
       "77292         0.693147    0.000000    0.000000    0.000000    0.693147   \n",
       "114021        0.000000    0.000000    0.693147    0.000000    0.000000   \n",
       "146670        0.000000    0.000000    0.000000    0.693147    0.000000   \n",
       "...                ...         ...         ...         ...         ...   \n",
       "82793         0.000000    0.000000    0.000000    0.000000    0.000000   \n",
       "82794         3.583519    0.000000    0.000000    0.000000    0.000000   \n",
       "82795         0.000000    0.000000    0.000000    0.693147    0.000000   \n",
       "82796         2.302585    0.693147    0.000000    0.693147    0.000000   \n",
       "82797         0.693147    0.693147    0.693147    1.386294    3.218876   \n",
       "\n",
       "            time_diff9  \n",
       "session_id              \n",
       "21669         0.000000  \n",
       "54843         0.000000  \n",
       "77292         0.000000  \n",
       "114021        0.693147  \n",
       "146670        0.000000  \n",
       "...                ...  \n",
       "82793         0.000000  \n",
       "82794         0.000000  \n",
       "82795         0.000000  \n",
       "82796         0.000000  \n",
       "82797         1.791759  \n",
       "\n",
       "[336358 rows x 13 columns]"
      ]
     },
     "execution_count": 37,
     "metadata": {},
     "output_type": "execute_result"
    }
   ],
   "source": [
    "additional_data_df"
   ]
  },
  {
   "cell_type": "markdown",
   "metadata": {
    "_cell_guid": "afb0af32-cf12-4f5b-a033-a286e905646d",
    "_uuid": "549ba53d094d88f334141b65491ee6561e312b86"
   },
   "source": [
    "**We will calculate the total time spent at each session**"
   ]
  },
  {
   "cell_type": "code",
   "execution_count": 38,
   "metadata": {
    "ExecuteTime": {
     "end_time": "2018-03-30T18:50:14.383338Z",
     "start_time": "2018-03-30T18:50:14.277145Z"
    },
    "_cell_guid": "cb2bed4d-a1c2-47bf-a447-da0255d72da1",
    "_uuid": "c0c62c011dd31a1477cfc10dc8fb765b49492277"
   },
   "outputs": [],
   "source": [
    "def get_total_time(row): \n",
    "    time_length = row.shape[0] - 1 \n",
    "    i = time_length \n",
    "    while pd.isnull( row [ i ]): \n",
    "        i -= 1 \n",
    "    return (row[i] - row[0]) / np.timedelta64(1,'s')"
   ]
  },
  {
   "cell_type": "code",
   "execution_count": 39,
   "metadata": {
    "ExecuteTime": {
     "end_time": "2018-03-30T18:50:16.900842Z",
     "start_time": "2018-03-30T18:50:14.395337Z"
    },
    "_cell_guid": "69221fd7-0f49-4ced-8832-b1da141effe1",
    "_uuid": "e95379fa046b1b527c6fac23709e272d42122cc1"
   },
   "outputs": [
    {
     "name": "stdout",
     "output_type": "stream",
     "text": [
      "CPU times: total: 2.55 s\n",
      "Wall time: 3.67 s\n"
     ]
    }
   ],
   "source": [
    "%%time\n",
    "total_time = []\n",
    "for row in full_time.values:\n",
    "    total_time.append(get_total_time(row))\n",
    "total_time = np.array(total_time).reshape(-1,1).astype(int)"
   ]
  },
  {
   "cell_type": "code",
   "execution_count": 40,
   "metadata": {
    "ExecuteTime": {
     "end_time": "2018-03-30T18:50:16.917084Z",
     "start_time": "2018-03-30T18:50:16.900842Z"
    },
    "_cell_guid": "be531208-ea71-4ab3-91b8-ef6efaa05b64",
    "_uuid": "ace884b4bbca683dcc99b42adb1d9a3eeb64e20a"
   },
   "outputs": [],
   "source": [
    "additional_data_df['total_time'] =  total_time \n",
    "additional_data_df['total_time'] =  np.log1p(additional_data_df['total_time'].values)"
   ]
  },
  {
   "cell_type": "code",
   "execution_count": 41,
   "metadata": {
    "ExecuteTime": {
     "end_time": "2018-03-30T18:50:18.187469Z",
     "start_time": "2018-03-30T18:50:16.917084Z"
    },
    "_cell_guid": "a002dd53-90e4-49bb-a0b5-33a1d16bda8f",
    "_uuid": "ed4410d4da96ffc72697441936722630bebca59d"
   },
   "outputs": [],
   "source": [
    "additional_data_df['start_hour']  =  full_time['time1'].apply(lambda ts: ts.hour) \n",
    "additional_data_df['holiday']     = (full_time['time1'].dt.dayofweek >= 5).astype(int) \n",
    "additional_data_df['day_of_week'] = (full_time['time1'].dt.dayofweek).astype(int)"
   ]
  },
  {
   "cell_type": "code",
   "execution_count": null,
   "metadata": {
    "ExecuteTime": {
     "end_time": "2018-03-30T18:50:18.210886Z",
     "start_time": "2018-03-30T18:50:18.187469Z"
    },
    "_cell_guid": "238b6495-7fee-455c-abec-39731aaccf25",
    "_uuid": "19b99b0afabe18fca68e276e008309a3b34b4d04"
   },
   "outputs": [],
   "source": [
    "additional_data_df.head(5)"
   ]
  },
  {
   "cell_type": "code",
   "execution_count": null,
   "metadata": {
    "ExecuteTime": {
     "end_time": "2018-03-30T18:50:18.3709Z",
     "start_time": "2018-03-30T18:50:18.210886Z"
    },
    "_cell_guid": "6b72c67d-dbe0-442d-83b1-95ffec9ffe36",
    "_uuid": "dafe7f340811298f4b6272d9581d4f2aa07efdbf"
   },
   "outputs": [],
   "source": [
    "add_data_train = additional_data_df[: idx_split ].copy() \n",
    "add_data_test  = additional_data_df[ idx_split :]"
   ]
  },
  {
   "cell_type": "markdown",
   "metadata": {
    "_cell_guid": "865e38d2-f8d2-4f04-b1c3-87ac06ae18d2",
    "_uuid": "ad5ac92c74b6e69bf209bc0bfa95514722cd50a2"
   },
   "source": [
    "### Analysis of training and test samples "
   ]
  },
  {
   "cell_type": "code",
   "execution_count": null,
   "metadata": {
    "ExecuteTime": {
     "end_time": "2018-03-30T18:50:18.423616Z",
     "start_time": "2018-03-30T18:50:18.371553Z"
    },
    "_cell_guid": "d5469528-a6d9-470a-9cf3-8f5e88143e4b",
    "_uuid": "e84d5d7ff2a17cef84825e41f4ac86750cb03c67"
   },
   "outputs": [],
   "source": [
    "add_data_train.loc[:, 'target' ]= y_train"
   ]
  },
  {
   "cell_type": "markdown",
   "metadata": {
    "_cell_guid": "c2330d75-a81d-4ebd-9f0c-4db8eec34ace",
    "_uuid": "3ceae66e1b68f012a518e1c9e181a53c27534a7e"
   },
   "source": [
    "**Let's see what signs we have**"
   ]
  },
  {
   "cell_type": "code",
   "execution_count": null,
   "metadata": {
    "ExecuteTime": {
     "end_time": "2018-03-30T18:50:18.47304Z",
     "start_time": "2018-03-30T18:50:18.42408Z"
    },
    "_cell_guid": "2d092beb-201c-456b-bd3e-63fe58cbd5a2",
    "_uuid": "3aff4c7a0ae1111c4a83e63df0c324e21a3ce656",
    "scrolled": true
   },
   "outputs": [],
   "source": [
    "dtype_df = add_data_train.dtypes.reset_index() \n",
    "dtype_df.columns = ['Column_name','Column_type'] \n",
    "dtype_df"
   ]
  },
  {
   "cell_type": "code",
   "execution_count": null,
   "metadata": {
    "ExecuteTime": {
     "end_time": "2018-03-29T04:10:43.110884Z",
     "start_time": "2018-03-29T04:10:42.918824Z"
    },
    "_cell_guid": "497f9cf2-15f6-45a4-b3a6-a32c867a4158",
    "_uuid": "9ea68da42de558bda748c6e0728871a7ee2a13c3"
   },
   "outputs": [],
   "source": [
    "sns.countplot(x = add_data_train['target']) ;plt.legend();\n",
    "print(add_data_train['target'].value_counts())"
   ]
  },
  {
   "cell_type": "markdown",
   "metadata": {
    "_cell_guid": "c1e6ff3e-ea65-4551-8a6d-aa2cb82da94c",
    "_uuid": "2db4b06ce813a2e9b370eb70d7315d8cce373ec6"
   },
   "source": [
    "**All characteristics are of type int, but they can be divided into two groups-**\n",
    "- **categorical **\n",
    "\n",
    "- ** quantitative.**"
   ]
  },
  {
   "cell_type": "code",
   "execution_count": null,
   "metadata": {
    "_cell_guid": "ab1cbfb0-2528-4ed5-80bd-f053146d14a4",
    "_uuid": "67c44ae8555420d34cb2921431d86febbb5675ae"
   },
   "outputs": [],
   "source": [
    "plt.figure(figsize=(9,7))\n",
    "add_data_train['target'].value_counts().plot(kind = 'bar', label = 'Intruder')\n",
    "plt.legend()\n",
    "print(add_data_train['target'].value_counts())"
   ]
  },
  {
   "cell_type": "markdown",
   "metadata": {
    "_cell_guid": "5c0e75fb-2972-49ef-beeb-2aa6c8a51b5b",
    "_uuid": "659758908dca414fff678bee28411100f89093b7"
   },
   "source": [
    "**As you can see, we have two unbalanced classes**"
   ]
  },
  {
   "cell_type": "markdown",
   "metadata": {
    "_cell_guid": "0b69dc60-a0e5-47a6-a885-1dd3d58a03d4",
    "_uuid": "4a27b139b72a5da720f14cd30b2d840170ce49df"
   },
   "source": [
    "**Let's look at the correlation table of the dataset**"
   ]
  },
  {
   "cell_type": "code",
   "execution_count": null,
   "metadata": {
    "ExecuteTime": {
     "end_time": "2018-03-29T04:10:44.270139Z",
     "start_time": "2018-03-29T04:10:43.110884Z"
    },
    "_cell_guid": "341a3019-2b88-4bfa-b3b5-5b5d459db5f6",
    "_uuid": "cf2cd4bccd454f6b6dfc2a2bb43d26a6cff6a150"
   },
   "outputs": [],
   "source": [
    "corr = add_data_train.corr('spearman') \n",
    "plt.figure(figsize = ( 16 , 11 )) \n",
    "sns.heatmap(corr,annot=True,fmt='.2f',cmap=\"YlGnBu\");"
   ]
  },
  {
   "cell_type": "markdown",
   "metadata": {
    "_cell_guid": "47355c48-8b19-4845-8954-85490cf4e44b",
    "_uuid": "0852c9447ff5f621e9ef980b4519ff9ed6beae63"
   },
   "source": [
    "**Let's look at the distribution of some features**"
   ]
  },
  {
   "cell_type": "code",
   "execution_count": null,
   "metadata": {
    "ExecuteTime": {
     "end_time": "2018-03-29T04:10:45.441274Z",
     "start_time": "2018-03-29T04:10:44.270139Z"
    },
    "_cell_guid": "5f4c3b3a-2dc6-47bb-9aa9-adcfcaa1a092",
    "_uuid": "321520a1a66401dd14237dee4cb7ff6fc86262e9"
   },
   "outputs": [],
   "source": [
    "feature_list = ['unique','absolutely_unique_count','start_hour','day_of_week'] \n",
    "for  column_name in feature_list: \n",
    "    fig , (ax1,ax2) = plt.subplots(1,2,figsize = ( 15 , 6 )) \n",
    "    fig.suptitle(column_name,fontsize=16) \n",
    "    sns.countplot(x = add_data_train[column_name],ax=ax1) \n",
    "    ax1.set_title(\"Train distribution\") \n",
    "    for tick in ax1.get_xticklabels(): \n",
    "        tick.set_rotation(45)\n",
    "    sns.countplot(x = add_data_test[column_name],ax=ax2) \n",
    "    ax2.set_title(\"Test distribution\") \n",
    "    for tick in ax2.get_xticklabels(): \n",
    "        tick.set_rotation(45)"
   ]
  },
  {
   "cell_type": "markdown",
   "metadata": {
    "_cell_guid": "c05e5158-eed7-4fe3-a988-b343064e6e3e",
    "_uuid": "bb0d12f119fe25dfe21523577e474d374982c322"
   },
   "source": [
    "- As you can see, all the attributes are distributed approximately equally in the training and test sample. \n",
    "\n",
    "- The start_hour attribute is distributed from 7 to 23 hours, and not from 0 to 23 hours, as expected.\n",
    "\n",
    "- We will analyze the effect of the characteristics on the target variable"
   ]
  },
  {
   "cell_type": "code",
   "execution_count": null,
   "metadata": {
    "ExecuteTime": {
     "end_time": "2018-03-29T04:10:45.457274Z",
     "start_time": "2018-03-29T04:10:45.441274Z"
    },
    "_cell_guid": "59950326-fa93-4e75-92b4-a243d0c8bf02",
    "_uuid": "69311733d1739f0212d5b631cddfd80dbd831fca"
   },
   "outputs": [],
   "source": [
    "def get_target_dist( column_name ): \n",
    "    fig , (ax1,ax2) = plt.subplots(1,2,figsize = (15,6)) \n",
    "    fig.suptitle(column_name,fontsize=16) \n",
    "    sns.countplot(x = add_data_train[add_data_train['target'] == 1][column_name],ax=ax1) \n",
    "    ax1.set_title(\"Intruder count (target: 1)\") \n",
    "    for tick in ax1.get_xticklabels(): \n",
    "        tick.set_rotation(45)\n",
    "    sns.barplot(x=column_name,y=\"target\",data=add_data_train,ax=ax2) \n",
    "    ax2.set_title(\"Intruder proportion (target: 1)\") \n",
    "    for tick in ax2.get_xticklabels(): \n",
    "        tick.set_rotation(45)"
   ]
  },
  {
   "cell_type": "code",
   "execution_count": null,
   "metadata": {
    "ExecuteTime": {
     "end_time": "2018-03-29T04:10:49.472264Z",
     "start_time": "2018-03-29T04:10:45.457274Z"
    },
    "_cell_guid": "281a1cb7-94bd-47e9-b754-27f33219be7f",
    "_uuid": "bdd0d497d29e56f0f516824a1c36ee06148a4fea"
   },
   "outputs": [],
   "source": [
    "get_target_dist('start_hour')"
   ]
  },
  {
   "cell_type": "markdown",
   "metadata": {
    "_cell_guid": "a4274e5b-87ef-4b64-93a5-f794ed51e964",
    "_uuid": "53aa6432a5e55ac9865e3cd4e43428af9977d76c"
   },
   "source": [
    "Frauds were recorded between 9 and 18 hours, with the period from 16 to 18 hours most saturated with suspicious activity. On the basis of this, we will distinguish 3 features:\n",
    "\n",
    "- morning: 7 - 11\n",
    "- midday: 12 - 15\n",
    "- evening: 16 - 20"
   ]
  },
  {
   "cell_type": "code",
   "execution_count": null,
   "metadata": {
    "ExecuteTime": {
     "end_time": "2018-03-29T04:10:50.256641Z",
     "start_time": "2018-03-29T04:10:49.472264Z"
    },
    "_cell_guid": "369a8ba3-947f-4a6f-b7ce-aef30a04ea17",
    "_uuid": "eb091123b14494916d3d94ac6e902ce07bd1dc86"
   },
   "outputs": [],
   "source": [
    "add_data_train ['morning']  = add_data_train['start_hour'].apply(lambda hour:int(hour >= 7 and hour <= 11 )) \n",
    "add_data_train ['midday']   = add_data_train['start_hour'].apply(lambda hour:int(hour >= 12 and hour <= 18)) \n",
    "add_data_train ['evening']  = add_data_train['start_hour'].apply(lambda hour:int(hour >= 19 and hour <= 23))\n",
    "add_data_train ['night']    = add_data_train['start_hour'].apply(lambda hour:int(hour >= 0 and hour <= 6))\n",
    "\n",
    "add_data_test ['morning']  = add_data_test['start_hour'].apply(lambda hour:int(hour >= 7 and hour <= 12 )) \n",
    "add_data_test ['midday']   = add_data_test['start_hour'].apply(lambda hour:int(hour >= 12 and hour <= 18)) \n",
    "add_data_test ['evening']  = add_data_test['start_hour'].apply(lambda hour:int(hour >= 19 and hour <= 23))\n",
    "add_data_test ['night']    = add_data_test['start_hour'].apply(lambda hour:int(hour >= 0 and hour <= 6))"
   ]
  },
  {
   "cell_type": "code",
   "execution_count": null,
   "metadata": {
    "_cell_guid": "910a653f-10b2-4417-889b-49db55a87485",
    "_uuid": "12198125c5421c6ff84979193e3972470e515c73"
   },
   "outputs": [],
   "source": [
    "get_target_dist('unique')"
   ]
  },
  {
   "cell_type": "code",
   "execution_count": null,
   "metadata": {
    "_cell_guid": "5cf95d49-c1f4-4e1a-a6f4-c0fe83b569c4",
    "_uuid": "624b8f7db1bc960f7ac961c9a6841fefa302a5a0"
   },
   "outputs": [],
   "source": [
    "get_target_dist('day_of_week')"
   ]
  },
  {
   "cell_type": "markdown",
   "metadata": {
    "_cell_guid": "ce991072-fd5e-4858-8eb3-578e12c8e460",
    "_uuid": "4ef6eebcc7529b998472b9912e6461e66c680208"
   },
   "source": [
    "**The least suspicious activity was on Wednesdays, Saturdays and Sundays. But on Mondays(0), on the contrary, more than on other days.**"
   ]
  },
  {
   "cell_type": "code",
   "execution_count": null,
   "metadata": {
    "_cell_guid": "a11426b4-5f9c-40fb-81fd-2f7cfad04456",
    "_uuid": "f9310bd7cf15c90f2a8f61feb4ca8192888a11e3"
   },
   "outputs": [],
   "source": [
    "get_target_dist('absolutely_unique_count')"
   ]
  },
  {
   "cell_type": "code",
   "execution_count": null,
   "metadata": {
    "_cell_guid": "de199575-2832-4252-ae5e-5ef114ed2cd5",
    "_uuid": "462af94b766f58ece2569e82577ca633b38e4d95"
   },
   "outputs": [],
   "source": [
    "feature_list = ['have_top_10', 'have_absolutely_unique']\n",
    "for column_name in feature_list:\n",
    "    plt.figure(figsize=(7, 5))\n",
    "    ax = sns.barplot(x=column_name, y=\"target\", data=add_data_train)\n",
    "    ax.set(ylabel='Target 1 proportion')\n",
    "    plt.title(column_name)\n",
    "    plt.show()"
   ]
  },
  {
   "cell_type": "code",
   "execution_count": null,
   "metadata": {
    "_cell_guid": "b48257df-f907-4b6d-88dc-7a70c9649e0b",
    "_uuid": "d3ee1e3327bb44416fb11b8c2c05bf06206716fb"
   },
   "outputs": [],
   "source": [
    "ax = sns.boxplot(x = 'target', y = 'total_time', data = add_data_train)"
   ]
  },
  {
   "cell_type": "markdown",
   "metadata": {
    "_cell_guid": "ef14d282-3f03-4328-97d0-e9085dd56d85",
    "_uuid": "5a0bc33430b0b225978429790685b7f84e3ed76a"
   },
   "source": [
    "The duration of sessions with suspicious activity is on average less than that of the usual ones.\n",
    "\n",
    "**General observations:**\n",
    "\n",
    "- Most often, suspicious activity was seen between 16 and 18 hours\n",
    "- Also on Mondays, suspicious activity occurs most often\n",
    "- On average, the duration of sessions with suspicious activity is less than that of conventional\n",
    "- Suspicious sessions are less common absolutely unique sites (sites that occur only once in the history of visiting sites)"
   ]
  },
  {
   "cell_type": "markdown",
   "metadata": {
    "_cell_guid": "09943153-2493-40bf-8074-e081e14eeaab",
    "_uuid": "71ffbefa341e97a1784829b809876f2250dec2de"
   },
   "source": [
    " Adding Cyclic Co-ordinates"
   ]
  },
  {
   "cell_type": "code",
   "execution_count": null,
   "metadata": {
    "ExecuteTime": {
     "end_time": "2018-03-29T04:10:51.319104Z",
     "start_time": "2018-03-29T04:10:50.256641Z"
    },
    "_cell_guid": "df4153a7-ea91-45a1-9d2f-9da5c43bc45c",
    "_uuid": "7518ab76c771988a50788eff1207d5f881e4d222"
   },
   "outputs": [],
   "source": [
    "pi = np.pi\n",
    "add_data_train['hour_sin_x'] = add_data_train['start_hour'].apply(lambda ts: np.sin(2*pi*ts/24.))\n",
    "add_data_train['hour_cos_x'] = add_data_train['start_hour'].apply(lambda ts: np.cos(2*pi*ts/24.))\n",
    "\n",
    "add_data_test['hour_sin_x'] = add_data_test['start_hour'].apply(lambda ts: np.sin(2*pi*ts/24.))\n",
    "add_data_test['hour_cos_x'] = add_data_test['start_hour'].apply(lambda ts: np.cos(2*pi*ts/24.))"
   ]
  },
  {
   "cell_type": "code",
   "execution_count": null,
   "metadata": {
    "_cell_guid": "a276ec60-4886-48fa-87e6-82dfa3e89236",
    "_uuid": "cdc0ceccd8742ebf1aa230147a7bf4beda6c987f"
   },
   "outputs": [],
   "source": [
    "def kmeansshow(k,X):\n",
    "\n",
    "    from sklearn import cluster\n",
    "    from matplotlib import pyplot\n",
    "\n",
    "    kmeans = cluster.KMeans(n_clusters=k)\n",
    "    kmeans.fit(X)\n",
    "    labels = kmeans.labels_\n",
    "    centroids = kmeans.cluster_centers_\n",
    "    #print centroids\n",
    "\n",
    "    for i in range(k):\n",
    "        # select only data observations with cluster label == i\n",
    "        ds = X[np.where(labels==i)]\n",
    "        # plot the data observations\n",
    "        pyplot.plot(ds[:,0],ds[:,1],'o')\n",
    "        # plot the centroids\n",
    "        lines = pyplot.plot(centroids[i,0],centroids[i,1],'kx')\n",
    "        # make the centroid x's bigger\n",
    "        pyplot.setp(lines,ms=15.0)\n",
    "        pyplot.setp(lines,mew=2.0)\n",
    "    pyplot.legend()\n",
    "    pyplot.show()\n",
    "    return centroids\n"
   ]
  },
  {
   "cell_type": "code",
   "execution_count": null,
   "metadata": {
    "_cell_guid": "4ae88b8b-8bf0-42d4-8e5c-28ce9f2df4d4",
    "_uuid": "adc235ccd2cf532027f8cfe0cb057a07eb173da2"
   },
   "outputs": [],
   "source": [
    "kmeansshow(3,add_data_train[['hour_sin_x', 'hour_cos_x']].values)\n",
    "kmeansshow(6,add_data_train[['hour_sin_x', 'hour_cos_x']].values)"
   ]
  },
  {
   "cell_type": "code",
   "execution_count": null,
   "metadata": {
    "_cell_guid": "48bf34ae-a657-4f0b-94cb-390aff916466",
    "_uuid": "f66ed0434ca9e7d1f65831f7422827e278978a91"
   },
   "outputs": [],
   "source": [
    "kmeansshow(3,add_data_test[['hour_sin_x', 'hour_cos_x']].values)\n",
    "kmeansshow(6,add_data_test[['hour_sin_x', 'hour_cos_x']].values)"
   ]
  },
  {
   "cell_type": "markdown",
   "metadata": {
    "_cell_guid": "c8d3e612-20d9-4ea1-9b43-2f0e557d1b51",
    "_uuid": "3017c8d2998ef23ff8d55b6c0257bf28d70bd4e6"
   },
   "source": [
    "### Preprocessing data \n",
    "- Convert categorical variables to dummies using get_dummies"
   ]
  },
  {
   "cell_type": "code",
   "execution_count": null,
   "metadata": {
    "ExecuteTime": {
     "end_time": "2018-03-29T04:11:15.661951Z",
     "start_time": "2018-03-29T04:11:15.461955Z"
    },
    "_cell_guid": "b92f676d-2f9c-4e6c-b892-0e03c8b07d9c",
    "_uuid": "41de2a668b26f35f72083a9d5f62242864868a0a"
   },
   "outputs": [],
   "source": [
    "add_train_dummies  = pd.get_dummies(add_data_train , columns=['day_of_week']) \n",
    "add_train_dummies.drop(['target'],axis = 1,inplace=True) \n",
    "add_test_dummies  = pd.get_dummies(add_data_test,columns=['day_of_week'])"
   ]
  },
  {
   "cell_type": "code",
   "execution_count": null,
   "metadata": {
    "ExecuteTime": {
     "end_time": "2018-03-29T09:44:42.39923Z",
     "start_time": "2018-03-29T09:44:42.37923Z"
    },
    "_cell_guid": "d3720f55-2f93-466d-81ac-7a159bd45059",
    "_uuid": "acf8894fe458b65ca4652677efd83f27352a30db"
   },
   "outputs": [],
   "source": [
    "idx_split"
   ]
  },
  {
   "cell_type": "code",
   "execution_count": null,
   "metadata": {
    "ExecuteTime": {
     "end_time": "2018-03-29T10:14:52.2454Z",
     "start_time": "2018-03-29T10:14:52.036791Z"
    },
    "_cell_guid": "b42dbeb5-3f2f-4c7c-8c8b-0a9ef57f0e07",
    "_uuid": "5011c6d919e3e2553d5c327c960c048c2beeb433"
   },
   "outputs": [],
   "source": [
    "names_for_scale  =  ['time_diff' + str(x) for x in range (1,10)]  +  ['unique','absolutely_unique_count','total_time'] \n",
    "scaler = StandardScaler() \n",
    "for column_name in names_for_scale : \n",
    "    add_train_dummies[column_name] =scaler.fit_transform(add_train_dummies[column_name].values.reshape(-1,1)) \n",
    "    add_test_dummies[column_name]  =scaler.transform(add_test_dummies[column_name].values.reshape(-1,1))"
   ]
  },
  {
   "cell_type": "code",
   "execution_count": null,
   "metadata": {
    "ExecuteTime": {
     "end_time": "2018-03-29T10:14:56.494411Z",
     "start_time": "2018-03-29T10:14:55.833451Z"
    },
    "_cell_guid": "967e563d-2a53-4410-82c8-861317ed4858",
    "_uuid": "47f9a66ad47ed7762146a2fd6e3e29171a384f0b"
   },
   "outputs": [],
   "source": [
    "# Sequence with indexes \n",
    "sites_flatten = full_sites.values.flatten()\n",
    "# \n",
    "full_sites_sparse=csr_matrix(([1]  *  sites_flatten . shape [ 0 ], sites_flatten ,  \n",
    "                                range(0,sites_flatten.shape[0]+10,10)))[:,1:]\n",
    "\n",
    "X_train_sparse  =  full_sites_sparse [: idx_split ] \n",
    "X_test_sparse  =  full_sites_sparse [ idx_split :] \n",
    "full_sites_sparse.shape #(336358, 48371)"
   ]
  },
  {
   "cell_type": "code",
   "execution_count": null,
   "metadata": {
    "ExecuteTime": {
     "end_time": "2018-03-30T18:51:44.928485Z",
     "start_time": "2018-03-30T18:51:12.990795Z"
    },
    "_cell_guid": "ae687afc-94c2-4ff8-93b0-748440f64019",
    "_uuid": "538e3d08172d5e7cc2e230b8d0be9a3a27dfd771"
   },
   "outputs": [],
   "source": [
    "full_sites = full_df[sites].astype('str')\n",
    "lst = full_sites[sites].values.tolist()\n",
    "flat_list = [' '.join(sublist) for sublist in lst]\n",
    "vect = TfidfVectorizer(ngram_range=(1,4), max_features=100000,analyzer='char_wb')\n",
    "tfidf_matrix = vect.fit_transform(flat_list)\n",
    "\n",
    "X_train_tf = tfidf_matrix[:idx_split]\n",
    "X_test_tf  = tfidf_matrix[idx_split:]\n",
    "\n",
    "X_train_tf.shape, X_test_tf.shape"
   ]
  },
  {
   "cell_type": "code",
   "execution_count": null,
   "metadata": {},
   "outputs": [],
   "source": [
    "# Convert all columns in the dummy variables to numeric (if needed)\n",
    "add_train_dummies = add_train_dummies.apply(pd.to_numeric, errors='coerce')\n",
    "add_test_dummies = add_test_dummies.apply(pd.to_numeric, errors='coerce')\n",
    "# Convert all boolean columns to 0 and 1\n",
    "add_train_dummies = add_train_dummies.apply(lambda x: x.astype(int) if x.dtype == 'bool' else x)\n",
    "add_test_dummies = add_test_dummies.apply(lambda x: x.astype(int) if x.dtype == 'bool' else x)\n"
   ]
  },
  {
   "cell_type": "code",
   "execution_count": null,
   "metadata": {},
   "outputs": [],
   "source": [
    "print(add_train_dummies.dtypes)"
   ]
  },
  {
   "cell_type": "markdown",
   "metadata": {
    "_cell_guid": "3ccd52ad-9ad2-40b4-ab6b-288d4c8b122f",
    "_uuid": "c7e54dff55e8adc1c3c317608a494b445c323965"
   },
   "source": [
    "**Combine the site matrix and additional features**"
   ]
  },
  {
   "cell_type": "code",
   "execution_count": null,
   "metadata": {
    "ExecuteTime": {
     "end_time": "2018-03-29T10:15:58.257232Z",
     "start_time": "2018-03-29T10:15:49.734417Z"
    },
    "_cell_guid": "71235b9a-261d-43d6-9e26-ef7d6ef3f012",
    "_uuid": "85b131e2eb1ce766eb26bc6fea05cb9c3e2fe844"
   },
   "outputs": [],
   "source": [
    "x_train_full  =  csr_matrix(hstack([X_train_tf,add_train_dummies.values])) \n",
    "x_test_full   =  csr_matrix(hstack([X_test_tf ,add_test_dummies.values])) \n",
    "x_train_full.shape,x_test_full.shape"
   ]
  },
  {
   "cell_type": "markdown",
   "metadata": {
    "_cell_guid": "92647c48-59a3-4a45-a7b7-49f44ac1133b",
    "_uuid": "75d0c56548021381787aca10b430ab4d57ff1f41"
   },
   "source": [
    "![Image](https://hsto.org/webt/8i/5k/vx/8i5kvxrehatyvf-l3glz_-ymhtw.png)"
   ]
  },
  {
   "cell_type": "code",
   "execution_count": null,
   "metadata": {
    "ExecuteTime": {
     "end_time": "2018-03-29T10:15:58.7212Z",
     "start_time": "2018-03-29T10:15:58.26024Z"
    },
    "_cell_guid": "18e77181-2bcb-4530-b5bc-3d3f3fe9881d",
    "_uuid": "e4fa9d6e83deb9e349e2b89ab05d311db505ee07"
   },
   "outputs": [],
   "source": [
    "target = train_df['target']\n",
    "X_train , X_valid , y_train , y_valid = train_test_split(x_train_full,target ,test_size=0.2) \n",
    "tscv = TimeSeriesSplit(n_splits = 5)"
   ]
  },
  {
   "cell_type": "code",
   "execution_count": null,
   "metadata": {
    "_cell_guid": "4779e48b-1f3d-4aab-9383-5418489cead1",
    "_uuid": "2303b69e6cb7646af704c8d96b8b313caadaff35"
   },
   "outputs": [],
   "source": [
    "tscv"
   ]
  },
  {
   "cell_type": "code",
   "execution_count": null,
   "metadata": {
    "_cell_guid": "655f37f2-7cd5-4cff-a1c2-53fa24b26860",
    "_uuid": "7c82225315adb41d53234b90f221b8f139557f5a"
   },
   "outputs": [],
   "source": [
    "[(el[0].shape, el[1].shape) for el in tscv.split(X_train)]"
   ]
  },
  {
   "cell_type": "markdown",
   "metadata": {
    "_cell_guid": "2e87b548-a343-4936-be34-485ca25bfae0",
    "_uuid": "78ceef636335f7be8d7a089172616b8b9ec4969f"
   },
   "source": [
    "**Since our classes are highly unbalanced, the accuracy metric here does not fit.**\n",
    "\n",
    "**We will use ROC_AUC as a metric, and also look at the results of confusion_matrix**"
   ]
  },
  {
   "cell_type": "markdown",
   "metadata": {
    "_cell_guid": "36cc7a89-17bc-4b44-8d6d-ada380f10ee6",
    "_uuid": "af7bee1c57b55b40f8e023b9c7d0a09c63045bbf"
   },
   "source": [
    "Since we have historical data, interrelated with time, the standard cross-fitting in this case will not work. We will use cross-validation with TimeSeriesSplit - cross-validation techniques for time series. \n",
    "Its essence lies in the following: we divide the sample, for example, into 5 parts: [1, 2, 3, 4, 5], then we train in the following way\n",
    "\n",
    "- Fold 1: training [1], Test [2]\n",
    "- Fold 2: Training [1, 2], Test [3]\n",
    "- Fold 3: teaching [1, 2, 3], Test [4]\n",
    "- Fold 4: training [1, 2, 3, 4], Test [5]\n",
    "\n",
    "**This approach will help to better evaluate the quality of the algorithm.**"
   ]
  },
  {
   "cell_type": "code",
   "execution_count": null,
   "metadata": {
    "ExecuteTime": {
     "end_time": "2018-03-29T09:47:56.997855Z",
     "start_time": "2018-03-29T09:46:21.868701Z"
    },
    "_cell_guid": "7abb6931-03f8-4f10-8136-e8f6cef5bb42",
    "_kg_hide-output": true,
    "_uuid": "4fb79686332d9826e4ebd2aea12986b3fde1a1b8",
    "scrolled": true
   },
   "outputs": [],
   "source": [
    "%%time\n",
    "clf_lr = LogisticRegression (random_state = 42, n_jobs=1, solver='lbfgs', max_iter=8000)\n",
    "clf_lr.fit (X_train, y_train)\n",
    "preds_lr = clf_lr.predict_proba (X_valid)[:, 1]\n",
    "print ('Train test split LogisticRegression score:% s ROC AUC'% round (roc_auc_score (y_valid, preds_lr), 4))\n",
    "cross_score_lr = np.mean (cross_val_score (clf_lr, x_train_full, target, scoring = 'roc_auc', cv = tscv))\n",
    "print ('Cross validation LogisticRegression score:% s ROC AUC'% round (cross_score_lr, 4))"
   ]
  },
  {
   "cell_type": "code",
   "execution_count": null,
   "metadata": {
    "ExecuteTime": {
     "end_time": "2018-03-28T10:17:39.587352Z",
     "start_time": "2018-03-28T10:09:36.481356Z"
    },
    "_cell_guid": "aa1095b9-ce67-4698-9344-35732fd90d2d",
    "_uuid": "d558f74904bd9b79d786dd1a2f3fd20e686448f2"
   },
   "outputs": [],
   "source": [
    "%%time\n",
    "clf_rf = RandomForestClassifier (random_state = 42, n_estimators = 100)\n",
    "clf_rf.fit (X_train, y_train)\n",
    "preds_rf = clf_rf.predict_proba (X_valid) [:, 1]\n",
    "print ('Train test split RandomForestClassifier score:% s ROC AUC'% round (roc_auc_score (y_valid, preds_rf), 4))\n",
    "cross_score_rf = np.mean (cross_val_score (clf_rf, x_train_full, target, scoring = 'roc_auc', cv = tscv))\n",
    "print ('Cross validation RandomForestClassifier score:% s ROC AUC'% round (cross_score_rf, 4))"
   ]
  },
  {
   "cell_type": "code",
   "execution_count": null,
   "metadata": {
    "_uuid": "09310203474756da58d1bf52535489e56ec67b5a"
   },
   "outputs": [],
   "source": [
    "%%time\n",
    "reg_xgb = xgb.XGBRegressor(10, 0.1, 1000, objective= 'binary:logistic', random_state = 42, booster = 'gblinear',scale_pos_weight = 109)\n",
    "reg_xgb.fit(X_train, y_train)\n",
    "preds_xgb_reg = reg_xgb.predict(X_valid)"
   ]
  },
  {
   "cell_type": "code",
   "execution_count": null,
   "metadata": {},
   "outputs": [],
   "source": [
    "preds_xgb_reg = reg_xgb.predict(X_valid)"
   ]
  },
  {
   "cell_type": "code",
   "execution_count": null,
   "metadata": {
    "_uuid": "717fa1f5d97fd332fbd5edd00e6ef4898b8f89b2"
   },
   "outputs": [],
   "source": [
    "preds_xgb_reg.shape"
   ]
  },
  {
   "cell_type": "code",
   "execution_count": null,
   "metadata": {
    "_cell_guid": "f31d46ff-3114-4f28-8a07-926c92d802b2",
    "_uuid": "d0c20d0fde24206f039dd8910223f81f4f4e0246"
   },
   "outputs": [],
   "source": [
    "print ('Train test split XGBRegressor score:% s ROC AUC'% round (roc_auc_score (y_valid, preds_xgb_reg), 4))\n",
    "cross_score_xgb_reg = np.mean (cross_val_score (reg_xgb, x_train_full, target, scoring = 'roc_auc', cv = tscv))\n",
    "print ('Cross validation XGBRegressor score:% s ROC AUC'% round (cross_score_xgb_reg, 4))"
   ]
  },
  {
   "cell_type": "code",
   "execution_count": null,
   "metadata": {
    "ExecuteTime": {
     "end_time": "2018-03-28T10:18:11.859726Z",
     "start_time": "2018-03-28T10:17:39.587352Z"
    },
    "_cell_guid": "73002342-0fd3-4590-ac6a-bacd8138ce16",
    "_uuid": "9539d7c78a3b076205a6fd96a7b33f457c0ce268"
   },
   "outputs": [],
   "source": [
    "%%time\n",
    "clf_xgb = xgb.XGBClassifier (random_state = 42, booster = 'gblinear')\n",
    "clf_xgb.fit (X_train, y_train)\n",
    "preds_xgb = clf_xgb.predict_proba (X_valid) [:, 1]\n",
    "print ('Train test split XGBClassifier score:% s ROC AUC'% round (roc_auc_score (y_valid, preds_xgb), 4))\n",
    "cross_score_xgb = np.mean (cross_val_score (clf_xgb, x_train_full, target, scoring = 'roc_auc', cv = tscv))\n",
    "print ('Cross validation XGBClassifier score:% s ROC AUC'% round (cross_score_xgb, 4))"
   ]
  },
  {
   "cell_type": "code",
   "execution_count": null,
   "metadata": {
    "_cell_guid": "116f8586-c7fb-4e9d-a1ba-96f62e41d1a9",
    "_uuid": "c768e8b22ee142349a734a0eb3d74626a3223d30"
   },
   "outputs": [],
   "source": [
    "fpr_lr,tpr_lr,threshold=roc_curve(y_valid,preds_lr)\n",
    "roc_auc_lr = auc(fpr_lr,tpr_lr)\n",
    "\n",
    "fpr_rf,tpr_rf,threshold=roc_curve(y_valid,preds_rf)\n",
    "roc_auc_rf = auc(fpr_rf,tpr_rf)\n",
    "\n",
    "fpr_xgb_reg,tpr_xgb_reg,threshold=roc_curve(y_valid,preds_xgb_reg)\n",
    "roc_auc_xgb_reg = auc(fpr_xgb_reg,tpr_xgb_reg)\n",
    "\n",
    "fpr_xgb,tpr_xgb,threshold=roc_curve(y_valid,preds_xgb)\n",
    "roc_auc_xgb = auc(fpr_xgb,tpr_xgb)\n",
    "\n",
    "plt.figure(figsize=(12,8))\n",
    "plt.title('Receiver Operating Characteristic Curve')\n",
    "plt.plot(fpr_lr, tpr_lr,'r', label='AUC LR=%0.4f'%roc_auc_lr)\n",
    "plt.plot(fpr_rf, tpr_rf,'b', label='AUC RF=%0.4f'%roc_auc_rf)\n",
    "plt.plot(fpr_xgb, tpr_xgb,'g', label='AUC XGB REG=%0.4f'%roc_auc_xgb_reg)\n",
    "plt.plot(fpr_xgb_reg, tpr_xgb_reg, 'y', label='AUC XGB=%0.4f'%roc_auc_xgb)\n",
    "plt.legend(loc='lower right')\n",
    "plt.plot([0,1],[0,1],'r--')\n",
    "plt.xlim([0,1])\n",
    "plt.ylim([0,1])\n",
    "plt.ylabel('True Positive Rate')\n",
    "plt.xlabel('False Positive Rate')"
   ]
  },
  {
   "cell_type": "code",
   "execution_count": null,
   "metadata": {
    "_cell_guid": "7e80d101-5dab-4c84-8bf4-7df5899db9ac",
    "_uuid": "1b228db2eb049c1a50da424eaf39d71868076c6c"
   },
   "outputs": [],
   "source": [
    "def show_confusion_matrix(y_true,y_pred,title='Confusionmatrix'):\n",
    "    table=confusion_matrix(y_true.values,y_pred)\n",
    "    fig,ax=plt.subplots(frameon=False)\n",
    "    fig.set_size_inches(4,3)\n",
    "    fig.suptitle(title,fontsize=20)\n",
    "    ax.axis('off')\n",
    "    ax.xaxis.set_visible(False)\n",
    "    ax.yaxis.set_visible(False)\n",
    "\n",
    "    the_table=ax.table(cellText=table,\n",
    "                        colWidths=[0.5]*len([0,1]),\n",
    "                        rowLabels=['True 0','True 1'],colLabels=['Predicted 0','Predicted 1'],\n",
    "                        cellLoc='center',rowLoc='center',loc=\"center\")\n",
    "    the_table.set_fontsize(34)\n",
    "    the_table.scale(1,4)\n",
    "    plt.show()"
   ]
  },
  {
   "cell_type": "code",
   "execution_count": null,
   "metadata": {
    "_cell_guid": "0d5e97e8-0e21-4382-bae3-b1bccb0a7618",
    "_uuid": "4577d82fceb299ae5a662b501a8f08526774e4df"
   },
   "outputs": [],
   "source": [
    "show_confusion_matrix(y_valid, clf_lr.predict(X_valid))"
   ]
  },
  {
   "cell_type": "code",
   "execution_count": null,
   "metadata": {
    "_cell_guid": "271a9bdc-6230-486a-9846-7888379930cd",
    "_uuid": "204f8a85b23fe35de6e4a17452e7e1530cb86eeb"
   },
   "outputs": [],
   "source": [
    "show_confusion_matrix(y_valid, clf_xgb.predict(X_valid))"
   ]
  },
  {
   "cell_type": "code",
   "execution_count": null,
   "metadata": {
    "ExecuteTime": {
     "end_time": "2018-03-29T09:49:04.932509Z",
     "start_time": "2018-03-29T09:49:04.876508Z"
    },
    "_cell_guid": "1b41b47a-52f1-4f41-9232-dc783ce97c47",
    "_uuid": "35c2a19d15554f716439d107f17e7bf155d7872f"
   },
   "outputs": [],
   "source": [
    "def get_auc_lr_valid(X, y, C=1.0, seed=17, ratio = 0.9):\n",
    "    # Split the data into the training and validation sets\n",
    "    idx = int(round(X.shape[0] * ratio))\n",
    "    # Classifier training\n",
    "    lr = LogisticRegression(C=C, random_state=seed,max_iter=8000,n_jobs=1,solver='lbfgs').fit(X[:idx, :], y[:idx])\n",
    "    # Prediction for validation set\n",
    "    y_pred = lr.predict_proba(X[idx:, :])[:, 1]\n",
    "    # Calculate the quality\n",
    "    score = roc_auc_score(y[idx:], y_pred)\n",
    "    return score"
   ]
  },
  {
   "cell_type": "code",
   "execution_count": null,
   "metadata": {
    "ExecuteTime": {
     "end_time": "2018-03-29T10:06:14.855477Z",
     "start_time": "2018-03-29T09:51:43.509956Z"
    },
    "_cell_guid": "6f050ec7-e7ee-4041-ad0b-5a324106fc63",
    "_uuid": "538adf302af0a03bf35c883cfeb7726a01a6d2c9"
   },
   "outputs": [],
   "source": [
    "%%time\n",
    "from tqdm import tqdm\n",
    "# List of possible C-values\n",
    "Cs = np.logspace(-1, 1, 20)\n",
    "\n",
    "scores = []\n",
    "\n",
    "for C in tqdm(Cs):\n",
    "     scores.append(get_auc_lr_valid(X_train, y_train, C=C))"
   ]
  },
  {
   "cell_type": "code",
   "execution_count": null,
   "metadata": {
    "ExecuteTime": {
     "end_time": "2018-03-29T10:06:14.86633Z",
     "start_time": "2018-03-29T10:06:14.855477Z"
    },
    "_cell_guid": "7d1d51dd-3282-4845-90bd-bae874a60a38",
    "_uuid": "d3d9d451eebaa7b0bb04e4eff99d31e53e2665fb"
   },
   "outputs": [],
   "source": [
    "Cs"
   ]
  },
  {
   "cell_type": "code",
   "execution_count": null,
   "metadata": {
    "ExecuteTime": {
     "end_time": "2018-03-29T10:06:14.945562Z",
     "start_time": "2018-03-29T10:06:14.86633Z"
    },
    "_cell_guid": "08ae6149-b916-4256-b510-c9942fd9aa74",
    "_uuid": "21a5f3c8a54d2b6ddc1d27e051d4725da355554c"
   },
   "outputs": [],
   "source": [
    "scores, max(scores), Cs[np.argmax(scores)]"
   ]
  },
  {
   "cell_type": "code",
   "execution_count": null,
   "metadata": {
    "_cell_guid": "5fb78654-6b32-4a2a-8cf3-6620ea48807a",
    "_uuid": "626603de5ccfb61b9dd7822d68e3ad68778eeff5"
   },
   "outputs": [],
   "source": [
    "final_model = LogisticRegression(random_state = 17, C = Cs[np.argmax(scores)],n_jobs=1) \n",
    "final_model.fit(X_train,y_train) \n",
    "print('ROC_AUC on the test sample: {} '.format(round(roc_auc_score(y_valid,final_model.predict_proba(X_valid)[:,1]),4)))"
   ]
  },
  {
   "cell_type": "code",
   "execution_count": null,
   "metadata": {
    "ExecuteTime": {
     "end_time": "2018-03-29T10:08:16.289843Z",
     "start_time": "2018-03-29T10:08:16.265833Z"
    },
    "_cell_guid": "19996147-e56f-4827-bd40-30565f1b8f07",
    "_uuid": "073df23e9963b9883e4e30fab18c981ec50aebcf"
   },
   "outputs": [],
   "source": [
    "# Function for writing predictions to a file\n",
    "def write_to_submission_file(predicted_labels, out_file,\n",
    "                             target='target', index_label=\"session_id\"):\n",
    "    predicted_df = pd.DataFrame(predicted_labels,\n",
    "                                index = np.arange(1, predicted_labels.shape[0] + 1),\n",
    "                                columns=[target])\n",
    "    predicted_df.to_csv(out_file, index_label=index_label)"
   ]
  },
  {
   "cell_type": "code",
   "execution_count": null,
   "metadata": {},
   "outputs": [],
   "source": [
    "pred_1 = final_model.predict(x_test_full)"
   ]
  },
  {
   "cell_type": "code",
   "execution_count": null,
   "metadata": {},
   "outputs": [],
   "source": [
    "np.unique(pred_1,return_counts=True)"
   ]
  },
  {
   "cell_type": "code",
   "execution_count": null,
   "metadata": {
    "ExecuteTime": {
     "end_time": "2018-03-29T10:17:59.627716Z",
     "start_time": "2018-03-29T10:17:59.593626Z"
    },
    "_cell_guid": "3aa734bf-0d01-47f1-a009-43da9ceb94c5",
    "_uuid": "948dcaa9002601bf051e32ce2d7168e7b0c1eff7"
   },
   "outputs": [],
   "source": [
    "preds = final_model.predict_proba(x_test_full)[:,1]"
   ]
  },
  {
   "cell_type": "code",
   "execution_count": null,
   "metadata": {
    "ExecuteTime": {
     "end_time": "2018-03-29T10:17:59.706928Z",
     "start_time": "2018-03-29T10:17:59.629723Z"
    },
    "_cell_guid": "a04f1636-7c00-47ee-a607-0161116e79f5",
    "_uuid": "92ef742859fe0134900af0e3fdfb264a2832aa1d"
   },
   "outputs": [],
   "source": [
    "preds[:10]"
   ]
  },
  {
   "cell_type": "code",
   "execution_count": null,
   "metadata": {
    "_cell_guid": "143da550-bfbb-45e4-a98e-5b74555b3b07",
    "_uuid": "4e3686f6a0e080e4d8fbfcba9fd04e424805e96c"
   },
   "outputs": [],
   "source": [
    "preds = np.where(preds > 0.945, 0.985, preds)"
   ]
  },
  {
   "cell_type": "code",
   "execution_count": null,
   "metadata": {
    "ExecuteTime": {
     "end_time": "2018-03-29T10:18:00.188694Z",
     "start_time": "2018-03-29T10:17:59.708934Z"
    },
    "_cell_guid": "1ad8ad1a-10b1-4120-a655-f64e6f0e9c69",
    "_uuid": "bd7b6782247df64518bbb3e54d504dbc4d8e60fa"
   },
   "outputs": [],
   "source": [
    "write_to_submission_file(preds,'re-git_v4.csv')"
   ]
  },
  {
   "cell_type": "markdown",
   "metadata": {
    "_cell_guid": "346e1eb6-3683-4bb7-9905-f2cf6191dadd",
    "_uuid": "5f5229e030270acdfaae1aaf25f7824fad49473b"
   },
   "source": [
    "### Hope it was Useful (More To Come, till then Enjoy and share your Views Below...****)\n",
    "\n",
    "Thanks\n",
    "\n",
    "- *Aditya Soni*"
   ]
  }
 ],
 "metadata": {
  "accelerator": "GPU",
  "colab": {
   "collapsed_sections": [],
   "default_view": {},
   "name": "kaggle_alice_.ipynb",
   "provenance": [],
   "version": "0.3.2",
   "views": {}
  },
  "kaggle": {
   "accelerator": "gpu",
   "dataSources": [
    {
     "databundleVersionId": 108687,
     "sourceId": 7173,
     "sourceType": "competition"
    }
   ],
   "dockerImageVersionId": 12836,
   "isGpuEnabled": true,
   "isInternetEnabled": true,
   "language": "python",
   "sourceType": "notebook"
  },
  "kernelspec": {
   "display_name": "Python 3 (ipykernel)",
   "language": "python",
   "name": "python3"
  },
  "language_info": {
   "codemirror_mode": {
    "name": "ipython",
    "version": 3
   },
   "file_extension": ".py",
   "mimetype": "text/x-python",
   "name": "python",
   "nbconvert_exporter": "python",
   "pygments_lexer": "ipython3",
   "version": "3.10.0"
  },
  "nbTranslate": {
   "displayLangs": [
    "*"
   ],
   "hotkey": "alt-t",
   "langInMainMenu": true,
   "sourceLang": "en",
   "targetLang": "fr",
   "useGoogleTranslate": true
  }
 },
 "nbformat": 4,
 "nbformat_minor": 4
}
